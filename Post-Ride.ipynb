{
 "cells": [
  {
   "cell_type": "markdown",
   "metadata": {},
   "source": [
    "# Post-Ride Survey Analysis"
   ]
  },
  {
   "cell_type": "markdown",
   "metadata": {},
   "source": [
    "### -------------------------------------"
   ]
  },
  {
   "cell_type": "markdown",
   "metadata": {},
   "source": [
    "# Findings Summary\n",
    "I created a graph which shows the average scores that the users gave as 'Feedback' at 7 different places along the route in the AV. The graph shows a large difference between the users' experience mid-ride with Julie and Lily at Feedback #3 even though most of the other Feedback instances were pretty similar. This would be interesting to dig into to see what caused the large gap between users' experience at Feedback #3. \n",
    "\n",
    "I used the Mann-Whitney U test on the appropriate columns. There were no other significant differences between the question results for Julie and Lily users. \n",
    "\n",
    "One question I have is why does Julie score higher on so many of the questions, yet for some pretty significant questions Lily scores higher? For example, the only two questions that Lily scored higher than Julie were the following two questions: \n",
    "\n",
    "* \"How friendly did you feel the autonomous vehicle was?\"\n",
    "\n",
    "* \"How likely are you to ride an atonomous vehicle again?\"\n",
    "\n",
    "These seem like pretty important questions! I wonder what made it such that the users seem to have a better experience with Julie but consider Lily to be 'friendlier' and would be more likely to ride an AV because of Lily. "
   ]
  },
  {
   "cell_type": "markdown",
   "metadata": {},
   "source": [
    "### -------------------------------------"
   ]
  },
  {
   "cell_type": "markdown",
   "metadata": {},
   "source": [
    "## EDA"
   ]
  },
  {
   "cell_type": "code",
   "execution_count": 1,
   "metadata": {},
   "outputs": [],
   "source": [
    "import pandas as pd\n",
    "import numpy as np"
   ]
  },
  {
   "cell_type": "code",
   "execution_count": 2,
   "metadata": {},
   "outputs": [],
   "source": [
    "data = pd.read_csv('postridecsv.csv')\n",
    "data.shape"
   ]
  },
  {
   "cell_type": "code",
   "execution_count": 3,
   "metadata": {},
   "outputs": [
    {
     "data": {
      "text/html": [
       "<div>\n",
       "<style scoped>\n",
       "    .dataframe tbody tr th:only-of-type {\n",
       "        vertical-align: middle;\n",
       "    }\n",
       "\n",
       "    .dataframe tbody tr th {\n",
       "        vertical-align: top;\n",
       "    }\n",
       "\n",
       "    .dataframe thead th {\n",
       "        text-align: right;\n",
       "    }\n",
       "</style>\n",
       "<table border=\"1\" class=\"dataframe\">\n",
       "  <thead>\n",
       "    <tr style=\"text-align: right;\">\n",
       "      <th></th>\n",
       "      <th>Timestamp</th>\n",
       "      <th>Intervention</th>\n",
       "      <th>Use?</th>\n",
       "      <th>Name</th>\n",
       "      <th>Feedback #1</th>\n",
       "      <th>Feedback #2</th>\n",
       "      <th>Feedback #3</th>\n",
       "      <th>Feedback #4</th>\n",
       "      <th>Feedback #5</th>\n",
       "      <th>Feedback #6</th>\n",
       "      <th>...</th>\n",
       "      <th>Please rate your overall experience of riding the autonomous vehicle</th>\n",
       "      <th>It operated as expected</th>\n",
       "      <th>It seems trustworthy</th>\n",
       "      <th>It was comforting</th>\n",
       "      <th>It will drive more safely than other human drivers</th>\n",
       "      <th>It is recommendable to others</th>\n",
       "      <th>How comfortable were you in the autonomous vehicle</th>\n",
       "      <th>How friendly did you feel the autonomous vehicle was?</th>\n",
       "      <th>How safe did you feel in the autonomous vehicle?</th>\n",
       "      <th>How likely are you to ride an autonomous vehicle again?</th>\n",
       "    </tr>\n",
       "  </thead>\n",
       "  <tbody>\n",
       "    <tr>\n",
       "      <th>0</th>\n",
       "      <td>Tuesday, July 17, 2018</td>\n",
       "      <td>Julie</td>\n",
       "      <td>YES</td>\n",
       "      <td>Babak</td>\n",
       "      <td>1</td>\n",
       "      <td>1</td>\n",
       "      <td>1</td>\n",
       "      <td>0</td>\n",
       "      <td>0</td>\n",
       "      <td>0</td>\n",
       "      <td>...</td>\n",
       "      <td>7</td>\n",
       "      <td>4</td>\n",
       "      <td>3</td>\n",
       "      <td>3</td>\n",
       "      <td>3</td>\n",
       "      <td>4</td>\n",
       "      <td>7</td>\n",
       "      <td>7</td>\n",
       "      <td>5</td>\n",
       "      <td>7</td>\n",
       "    </tr>\n",
       "    <tr>\n",
       "      <th>1</th>\n",
       "      <td>Thursday, July 19, 2018</td>\n",
       "      <td>Lily</td>\n",
       "      <td>Maybe; Semi-autonomous</td>\n",
       "      <td>Chris</td>\n",
       "      <td>1</td>\n",
       "      <td>0</td>\n",
       "      <td>0</td>\n",
       "      <td>0</td>\n",
       "      <td>0</td>\n",
       "      <td>0</td>\n",
       "      <td>...</td>\n",
       "      <td>8</td>\n",
       "      <td>2</td>\n",
       "      <td>3</td>\n",
       "      <td>2</td>\n",
       "      <td>3</td>\n",
       "      <td>3</td>\n",
       "      <td>7</td>\n",
       "      <td>7</td>\n",
       "      <td>10</td>\n",
       "      <td>10</td>\n",
       "    </tr>\n",
       "    <tr>\n",
       "      <th>2</th>\n",
       "      <td>Monday, July 23, 2018</td>\n",
       "      <td>Julie</td>\n",
       "      <td>Maybe--Wondered if she was being \"punked\"; Sem...</td>\n",
       "      <td>Kristin</td>\n",
       "      <td>1</td>\n",
       "      <td>0</td>\n",
       "      <td>1</td>\n",
       "      <td>0</td>\n",
       "      <td>1</td>\n",
       "      <td>1</td>\n",
       "      <td>...</td>\n",
       "      <td>7</td>\n",
       "      <td>4</td>\n",
       "      <td>0</td>\n",
       "      <td>0</td>\n",
       "      <td>3</td>\n",
       "      <td>4</td>\n",
       "      <td>7</td>\n",
       "      <td>7</td>\n",
       "      <td>6</td>\n",
       "      <td>8</td>\n",
       "    </tr>\n",
       "    <tr>\n",
       "      <th>3</th>\n",
       "      <td>Friday, July 27, 2018</td>\n",
       "      <td>Lily</td>\n",
       "      <td>YES</td>\n",
       "      <td>Danny</td>\n",
       "      <td>1</td>\n",
       "      <td>1</td>\n",
       "      <td>1</td>\n",
       "      <td>1</td>\n",
       "      <td>1</td>\n",
       "      <td>1</td>\n",
       "      <td>...</td>\n",
       "      <td>10</td>\n",
       "      <td>4</td>\n",
       "      <td>4</td>\n",
       "      <td>4</td>\n",
       "      <td>3</td>\n",
       "      <td>4</td>\n",
       "      <td>10</td>\n",
       "      <td>10</td>\n",
       "      <td>5</td>\n",
       "      <td>10</td>\n",
       "    </tr>\n",
       "    <tr>\n",
       "      <th>4</th>\n",
       "      <td>Monday, July 30, 2018</td>\n",
       "      <td>Julie</td>\n",
       "      <td>NO; knew this was not an AV and filled out the...</td>\n",
       "      <td>Aaron</td>\n",
       "      <td>1</td>\n",
       "      <td>-1</td>\n",
       "      <td>1</td>\n",
       "      <td>1</td>\n",
       "      <td>1</td>\n",
       "      <td>1</td>\n",
       "      <td>...</td>\n",
       "      <td>7</td>\n",
       "      <td>2</td>\n",
       "      <td>3</td>\n",
       "      <td>3</td>\n",
       "      <td>3</td>\n",
       "      <td>3</td>\n",
       "      <td>8</td>\n",
       "      <td>7</td>\n",
       "      <td>5</td>\n",
       "      <td>7</td>\n",
       "    </tr>\n",
       "  </tbody>\n",
       "</table>\n",
       "<p>5 rows × 21 columns</p>\n",
       "</div>"
      ],
      "text/plain": [
       "                 Timestamp Intervention  \\\n",
       "0   Tuesday, July 17, 2018        Julie   \n",
       "1  Thursday, July 19, 2018         Lily   \n",
       "2    Monday, July 23, 2018        Julie   \n",
       "3    Friday, July 27, 2018         Lily   \n",
       "4    Monday, July 30, 2018        Julie   \n",
       "\n",
       "                                                Use?     Name  Feedback #1  \\\n",
       "0                                                YES    Babak            1   \n",
       "1                             Maybe; Semi-autonomous    Chris            1   \n",
       "2  Maybe--Wondered if she was being \"punked\"; Sem...  Kristin            1   \n",
       "3                                                YES    Danny            1   \n",
       "4  NO; knew this was not an AV and filled out the...    Aaron            1   \n",
       "\n",
       "   Feedback #2  Feedback #3  Feedback #4  Feedback #5  Feedback #6  \\\n",
       "0            1            1            0            0            0   \n",
       "1            0            0            0            0            0   \n",
       "2            0            1            0            1            1   \n",
       "3            1            1            1            1            1   \n",
       "4           -1            1            1            1            1   \n",
       "\n",
       "                             ...                             \\\n",
       "0                            ...                              \n",
       "1                            ...                              \n",
       "2                            ...                              \n",
       "3                            ...                              \n",
       "4                            ...                              \n",
       "\n",
       "   Please rate your overall experience of riding the autonomous vehicle  \\\n",
       "0                                                  7                      \n",
       "1                                                  8                      \n",
       "2                                                  7                      \n",
       "3                                                 10                      \n",
       "4                                                  7                      \n",
       "\n",
       "   It operated as expected  It seems trustworthy  It was comforting  \\\n",
       "0                        4                     3                  3   \n",
       "1                        2                     3                  2   \n",
       "2                        4                     0                  0   \n",
       "3                        4                     4                  4   \n",
       "4                        2                     3                  3   \n",
       "\n",
       "   It will drive more safely than other human drivers  \\\n",
       "0                                                  3    \n",
       "1                                                  3    \n",
       "2                                                  3    \n",
       "3                                                  3    \n",
       "4                                                  3    \n",
       "\n",
       "   It is recommendable to others  \\\n",
       "0                              4   \n",
       "1                              3   \n",
       "2                              4   \n",
       "3                              4   \n",
       "4                              3   \n",
       "\n",
       "   How comfortable were you in the autonomous vehicle  \\\n",
       "0                                                  7    \n",
       "1                                                  7    \n",
       "2                                                  7    \n",
       "3                                                 10    \n",
       "4                                                  8    \n",
       "\n",
       "   How friendly did you feel the autonomous vehicle was?  \\\n",
       "0                                                  7       \n",
       "1                                                  7       \n",
       "2                                                  7       \n",
       "3                                                 10       \n",
       "4                                                  7       \n",
       "\n",
       "   How safe did you feel in the autonomous vehicle?   \\\n",
       "0                                                  5   \n",
       "1                                                 10   \n",
       "2                                                  6   \n",
       "3                                                  5   \n",
       "4                                                  5   \n",
       "\n",
       "   How likely are you to ride an autonomous vehicle again?   \n",
       "0                                                  7         \n",
       "1                                                 10         \n",
       "2                                                  8         \n",
       "3                                                 10         \n",
       "4                                                  7         \n",
       "\n",
       "[5 rows x 21 columns]"
      ]
     },
     "execution_count": 3,
     "metadata": {},
     "output_type": "execute_result"
    }
   ],
   "source": [
    "data.head()\n",
    "# no NAs"
   ]
  },
  {
   "cell_type": "markdown",
   "metadata": {},
   "source": [
    "### Take out those who were aware of survey subtleties"
   ]
  },
  {
   "cell_type": "code",
   "execution_count": 6,
   "metadata": {},
   "outputs": [
    {
     "data": {
      "text/plain": [
       "(22, 21)"
      ]
     },
     "execution_count": 6,
     "metadata": {},
     "output_type": "execute_result"
    }
   ],
   "source": [
    "data = data[data[\"Use?\"].str.startswith(\"Y\")]\n",
    "data.shape"
   ]
  },
  {
   "cell_type": "markdown",
   "metadata": {},
   "source": [
    "## Summary Tables"
   ]
  },
  {
   "cell_type": "markdown",
   "metadata": {},
   "source": [
    "#### Questions regarding the users' experience"
   ]
  },
  {
   "cell_type": "code",
   "execution_count": 51,
   "metadata": {},
   "outputs": [
    {
     "data": {
      "text/html": [
       "<div>\n",
       "<style scoped>\n",
       "    .dataframe tbody tr th:only-of-type {\n",
       "        vertical-align: middle;\n",
       "    }\n",
       "\n",
       "    .dataframe tbody tr th {\n",
       "        vertical-align: top;\n",
       "    }\n",
       "\n",
       "    .dataframe thead th {\n",
       "        text-align: right;\n",
       "    }\n",
       "</style>\n",
       "<table border=\"1\" class=\"dataframe\">\n",
       "  <thead>\n",
       "    <tr style=\"text-align: right;\">\n",
       "      <th></th>\n",
       "      <th>Intervention</th>\n",
       "      <th>Please rate your overall experience of riding the autonomous vehicle</th>\n",
       "      <th>It operated as expected</th>\n",
       "      <th>It seems trustworthy</th>\n",
       "      <th>It was comforting</th>\n",
       "      <th>It will drive more safely than other human drivers</th>\n",
       "      <th>It is recommendable to others</th>\n",
       "      <th>How comfortable were you in the autonomous vehicle</th>\n",
       "      <th>How friendly did you feel the autonomous vehicle was?</th>\n",
       "      <th>How safe did you feel in the autonomous vehicle?</th>\n",
       "      <th>How likely are you to ride an autonomous vehicle again?</th>\n",
       "    </tr>\n",
       "  </thead>\n",
       "  <tbody>\n",
       "    <tr>\n",
       "      <th>0</th>\n",
       "      <td>Julie</td>\n",
       "      <td>7</td>\n",
       "      <td>4</td>\n",
       "      <td>3</td>\n",
       "      <td>3</td>\n",
       "      <td>3</td>\n",
       "      <td>4</td>\n",
       "      <td>7</td>\n",
       "      <td>7</td>\n",
       "      <td>5</td>\n",
       "      <td>7</td>\n",
       "    </tr>\n",
       "    <tr>\n",
       "      <th>3</th>\n",
       "      <td>Lily</td>\n",
       "      <td>10</td>\n",
       "      <td>4</td>\n",
       "      <td>4</td>\n",
       "      <td>4</td>\n",
       "      <td>3</td>\n",
       "      <td>4</td>\n",
       "      <td>10</td>\n",
       "      <td>10</td>\n",
       "      <td>5</td>\n",
       "      <td>10</td>\n",
       "    </tr>\n",
       "    <tr>\n",
       "      <th>5</th>\n",
       "      <td>Julie</td>\n",
       "      <td>6</td>\n",
       "      <td>4</td>\n",
       "      <td>3</td>\n",
       "      <td>2</td>\n",
       "      <td>4</td>\n",
       "      <td>4</td>\n",
       "      <td>5</td>\n",
       "      <td>7</td>\n",
       "      <td>3</td>\n",
       "      <td>7</td>\n",
       "    </tr>\n",
       "    <tr>\n",
       "      <th>6</th>\n",
       "      <td>Julie</td>\n",
       "      <td>8</td>\n",
       "      <td>4</td>\n",
       "      <td>4</td>\n",
       "      <td>4</td>\n",
       "      <td>4</td>\n",
       "      <td>4</td>\n",
       "      <td>8</td>\n",
       "      <td>9</td>\n",
       "      <td>9</td>\n",
       "      <td>10</td>\n",
       "    </tr>\n",
       "    <tr>\n",
       "      <th>7</th>\n",
       "      <td>Lily</td>\n",
       "      <td>9</td>\n",
       "      <td>2</td>\n",
       "      <td>4</td>\n",
       "      <td>3</td>\n",
       "      <td>4</td>\n",
       "      <td>4</td>\n",
       "      <td>7</td>\n",
       "      <td>7</td>\n",
       "      <td>5</td>\n",
       "      <td>10</td>\n",
       "    </tr>\n",
       "  </tbody>\n",
       "</table>\n",
       "</div>"
      ],
      "text/plain": [
       "  Intervention  \\\n",
       "0        Julie   \n",
       "3         Lily   \n",
       "5        Julie   \n",
       "6        Julie   \n",
       "7         Lily   \n",
       "\n",
       "   Please rate your overall experience of riding the autonomous vehicle  \\\n",
       "0                                                  7                      \n",
       "3                                                 10                      \n",
       "5                                                  6                      \n",
       "6                                                  8                      \n",
       "7                                                  9                      \n",
       "\n",
       "   It operated as expected  It seems trustworthy  It was comforting  \\\n",
       "0                        4                     3                  3   \n",
       "3                        4                     4                  4   \n",
       "5                        4                     3                  2   \n",
       "6                        4                     4                  4   \n",
       "7                        2                     4                  3   \n",
       "\n",
       "   It will drive more safely than other human drivers  \\\n",
       "0                                                  3    \n",
       "3                                                  3    \n",
       "5                                                  4    \n",
       "6                                                  4    \n",
       "7                                                  4    \n",
       "\n",
       "   It is recommendable to others  \\\n",
       "0                              4   \n",
       "3                              4   \n",
       "5                              4   \n",
       "6                              4   \n",
       "7                              4   \n",
       "\n",
       "   How comfortable were you in the autonomous vehicle  \\\n",
       "0                                                  7    \n",
       "3                                                 10    \n",
       "5                                                  5    \n",
       "6                                                  8    \n",
       "7                                                  7    \n",
       "\n",
       "   How friendly did you feel the autonomous vehicle was?  \\\n",
       "0                                                  7       \n",
       "3                                                 10       \n",
       "5                                                  7       \n",
       "6                                                  9       \n",
       "7                                                  7       \n",
       "\n",
       "   How safe did you feel in the autonomous vehicle?   \\\n",
       "0                                                  5   \n",
       "3                                                  5   \n",
       "5                                                  3   \n",
       "6                                                  9   \n",
       "7                                                  5   \n",
       "\n",
       "   How likely are you to ride an autonomous vehicle again?   \n",
       "0                                                  7         \n",
       "3                                                 10         \n",
       "5                                                  7         \n",
       "6                                                 10         \n",
       "7                                                 10         "
      ]
     },
     "execution_count": 51,
     "metadata": {},
     "output_type": "execute_result"
    }
   ],
   "source": [
    "temp = data.drop(data.columns[0], axis = 1)\n",
    "temp = temp.drop(temp.columns[1:10], axis = 1)\n",
    "temp.head()"
   ]
  },
  {
   "cell_type": "code",
   "execution_count": 52,
   "metadata": {},
   "outputs": [
    {
     "data": {
      "text/html": [
       "<div>\n",
       "<style scoped>\n",
       "    .dataframe tbody tr th:only-of-type {\n",
       "        vertical-align: middle;\n",
       "    }\n",
       "\n",
       "    .dataframe tbody tr th {\n",
       "        vertical-align: top;\n",
       "    }\n",
       "\n",
       "    .dataframe thead th {\n",
       "        text-align: right;\n",
       "    }\n",
       "</style>\n",
       "<table border=\"1\" class=\"dataframe\">\n",
       "  <thead>\n",
       "    <tr style=\"text-align: right;\">\n",
       "      <th></th>\n",
       "      <th>Please rate your overall experience of riding the autonomous vehicle</th>\n",
       "      <th>It operated as expected</th>\n",
       "      <th>It seems trustworthy</th>\n",
       "      <th>It was comforting</th>\n",
       "      <th>It will drive more safely than other human drivers</th>\n",
       "      <th>It is recommendable to others</th>\n",
       "      <th>How comfortable were you in the autonomous vehicle</th>\n",
       "      <th>How friendly did you feel the autonomous vehicle was?</th>\n",
       "      <th>How safe did you feel in the autonomous vehicle?</th>\n",
       "      <th>How likely are you to ride an autonomous vehicle again?</th>\n",
       "    </tr>\n",
       "    <tr>\n",
       "      <th>Intervention</th>\n",
       "      <th></th>\n",
       "      <th></th>\n",
       "      <th></th>\n",
       "      <th></th>\n",
       "      <th></th>\n",
       "      <th></th>\n",
       "      <th></th>\n",
       "      <th></th>\n",
       "      <th></th>\n",
       "      <th></th>\n",
       "    </tr>\n",
       "  </thead>\n",
       "  <tbody>\n",
       "    <tr>\n",
       "      <th>Julie</th>\n",
       "      <td>7.727273</td>\n",
       "      <td>4.090909</td>\n",
       "      <td>3.909091</td>\n",
       "      <td>3.545455</td>\n",
       "      <td>3.909091</td>\n",
       "      <td>4.181818</td>\n",
       "      <td>7.727273</td>\n",
       "      <td>7.454545</td>\n",
       "      <td>6.727273</td>\n",
       "      <td>8.454545</td>\n",
       "    </tr>\n",
       "    <tr>\n",
       "      <th>Lily</th>\n",
       "      <td>7.545455</td>\n",
       "      <td>3.090909</td>\n",
       "      <td>3.363636</td>\n",
       "      <td>3.181818</td>\n",
       "      <td>3.636364</td>\n",
       "      <td>3.909091</td>\n",
       "      <td>7.272727</td>\n",
       "      <td>7.727273</td>\n",
       "      <td>5.909091</td>\n",
       "      <td>9.090909</td>\n",
       "    </tr>\n",
       "  </tbody>\n",
       "</table>\n",
       "</div>"
      ],
      "text/plain": [
       "              Please rate your overall experience of riding the autonomous vehicle  \\\n",
       "Intervention                                                                         \n",
       "Julie                                                  7.727273                      \n",
       "Lily                                                   7.545455                      \n",
       "\n",
       "              It operated as expected  It seems trustworthy  \\\n",
       "Intervention                                                  \n",
       "Julie                        4.090909              3.909091   \n",
       "Lily                         3.090909              3.363636   \n",
       "\n",
       "              It was comforting  \\\n",
       "Intervention                      \n",
       "Julie                  3.545455   \n",
       "Lily                   3.181818   \n",
       "\n",
       "              It will drive more safely than other human drivers  \\\n",
       "Intervention                                                       \n",
       "Julie                                                  3.909091    \n",
       "Lily                                                   3.636364    \n",
       "\n",
       "              It is recommendable to others  \\\n",
       "Intervention                                  \n",
       "Julie                              4.181818   \n",
       "Lily                               3.909091   \n",
       "\n",
       "              How comfortable were you in the autonomous vehicle  \\\n",
       "Intervention                                                       \n",
       "Julie                                                  7.727273    \n",
       "Lily                                                   7.272727    \n",
       "\n",
       "              How friendly did you feel the autonomous vehicle was?  \\\n",
       "Intervention                                                          \n",
       "Julie                                                  7.454545       \n",
       "Lily                                                   7.727273       \n",
       "\n",
       "              How safe did you feel in the autonomous vehicle?   \\\n",
       "Intervention                                                      \n",
       "Julie                                                  6.727273   \n",
       "Lily                                                   5.909091   \n",
       "\n",
       "              How likely are you to ride an autonomous vehicle again?   \n",
       "Intervention                                                            \n",
       "Julie                                                  8.454545         \n",
       "Lily                                                   9.090909         "
      ]
     },
     "execution_count": 52,
     "metadata": {},
     "output_type": "execute_result"
    }
   ],
   "source": [
    "temp.groupby(\"Intervention\").mean()"
   ]
  },
  {
   "cell_type": "markdown",
   "metadata": {},
   "source": [
    "Julie scored higher on 8 of these 10 questions. \n",
    "\n",
    "Lily scored higher than Julie for the questions:\n",
    "\n",
    "* \"How friendly did you feel the autonomous vehicle was?\"\n",
    "\n",
    "* \"How likely are you to ride an atonomous vehicle again?\""
   ]
  },
  {
   "cell_type": "markdown",
   "metadata": {},
   "source": [
    "### Feedback scores"
   ]
  },
  {
   "cell_type": "code",
   "execution_count": 7,
   "metadata": {},
   "outputs": [],
   "source": [
    "temp = data.drop(data.columns[11:], axis = 1)\n",
    "feedback = temp.drop(temp.columns[[0,2,3]], axis = 1)"
   ]
  },
  {
   "cell_type": "code",
   "execution_count": 20,
   "metadata": {},
   "outputs": [
    {
     "data": {
      "text/html": [
       "<div>\n",
       "<style scoped>\n",
       "    .dataframe tbody tr th:only-of-type {\n",
       "        vertical-align: middle;\n",
       "    }\n",
       "\n",
       "    .dataframe tbody tr th {\n",
       "        vertical-align: top;\n",
       "    }\n",
       "\n",
       "    .dataframe thead th {\n",
       "        text-align: right;\n",
       "    }\n",
       "</style>\n",
       "<table border=\"1\" class=\"dataframe\">\n",
       "  <thead>\n",
       "    <tr style=\"text-align: right;\">\n",
       "      <th></th>\n",
       "      <th>Feedback #1</th>\n",
       "      <th>Feedback #2</th>\n",
       "      <th>Feedback #3</th>\n",
       "      <th>Feedback #4</th>\n",
       "      <th>Feedback #5</th>\n",
       "      <th>Feedback #6</th>\n",
       "      <th>Feedback #7</th>\n",
       "    </tr>\n",
       "    <tr>\n",
       "      <th>Intervention</th>\n",
       "      <th></th>\n",
       "      <th></th>\n",
       "      <th></th>\n",
       "      <th></th>\n",
       "      <th></th>\n",
       "      <th></th>\n",
       "      <th></th>\n",
       "    </tr>\n",
       "  </thead>\n",
       "  <tbody>\n",
       "    <tr>\n",
       "      <th>Julie</th>\n",
       "      <td>0.909091</td>\n",
       "      <td>0.636364</td>\n",
       "      <td>0.818182</td>\n",
       "      <td>0.727273</td>\n",
       "      <td>0.545455</td>\n",
       "      <td>0.818182</td>\n",
       "      <td>0.545455</td>\n",
       "    </tr>\n",
       "    <tr>\n",
       "      <th>Lily</th>\n",
       "      <td>0.818182</td>\n",
       "      <td>0.454545</td>\n",
       "      <td>0.363636</td>\n",
       "      <td>0.636364</td>\n",
       "      <td>0.545455</td>\n",
       "      <td>0.818182</td>\n",
       "      <td>0.545455</td>\n",
       "    </tr>\n",
       "  </tbody>\n",
       "</table>\n",
       "</div>"
      ],
      "text/plain": [
       "              Feedback #1  Feedback #2  Feedback #3  Feedback #4  Feedback #5  \\\n",
       "Intervention                                                                    \n",
       "Julie            0.909091     0.636364     0.818182     0.727273     0.545455   \n",
       "Lily             0.818182     0.454545     0.363636     0.636364     0.545455   \n",
       "\n",
       "              Feedback #6  Feedback #7  \n",
       "Intervention                            \n",
       "Julie            0.818182     0.545455  \n",
       "Lily             0.818182     0.545455  "
      ]
     },
     "execution_count": 20,
     "metadata": {},
     "output_type": "execute_result"
    }
   ],
   "source": [
    "feedback_sum_by_Intervention = feedback.groupby(\"Intervention\").sum()\n",
    "feedback_sum_by_Intervention\n",
    "feedback_avg_by_Intervention = feedback.groupby(\"Intervention\").mean()\n",
    "feedback_avg_by_Intervention"
   ]
  },
  {
   "cell_type": "code",
   "execution_count": 21,
   "metadata": {},
   "outputs": [],
   "source": [
    "feedback_sum = feedback.assign(SumFeedback = feedback[feedback.columns[1:8]].sum(axis = 1))\n",
    "#data2 = data2.assign(Conf_Score = data2[list(data2)[7:10]].sum(axis = 1))"
   ]
  },
  {
   "cell_type": "markdown",
   "metadata": {},
   "source": [
    "### Plot the Feedback Scores"
   ]
  },
  {
   "cell_type": "code",
   "execution_count": 10,
   "metadata": {},
   "outputs": [],
   "source": [
    "import matplotlib.pyplot as plt"
   ]
  },
  {
   "cell_type": "code",
   "execution_count": 22,
   "metadata": {},
   "outputs": [
    {
     "data": {
      "text/html": [
       "<div>\n",
       "<style scoped>\n",
       "    .dataframe tbody tr th:only-of-type {\n",
       "        vertical-align: middle;\n",
       "    }\n",
       "\n",
       "    .dataframe tbody tr th {\n",
       "        vertical-align: top;\n",
       "    }\n",
       "\n",
       "    .dataframe thead th {\n",
       "        text-align: right;\n",
       "    }\n",
       "</style>\n",
       "<table border=\"1\" class=\"dataframe\">\n",
       "  <thead>\n",
       "    <tr style=\"text-align: right;\">\n",
       "      <th></th>\n",
       "      <th>Feedback #1</th>\n",
       "      <th>Feedback #2</th>\n",
       "      <th>Feedback #3</th>\n",
       "      <th>Feedback #4</th>\n",
       "      <th>Feedback #5</th>\n",
       "      <th>Feedback #6</th>\n",
       "      <th>Feedback #7</th>\n",
       "    </tr>\n",
       "    <tr>\n",
       "      <th>Intervention</th>\n",
       "      <th></th>\n",
       "      <th></th>\n",
       "      <th></th>\n",
       "      <th></th>\n",
       "      <th></th>\n",
       "      <th></th>\n",
       "      <th></th>\n",
       "    </tr>\n",
       "  </thead>\n",
       "  <tbody>\n",
       "    <tr>\n",
       "      <th>Julie</th>\n",
       "      <td>0.909091</td>\n",
       "      <td>0.636364</td>\n",
       "      <td>0.818182</td>\n",
       "      <td>0.727273</td>\n",
       "      <td>0.545455</td>\n",
       "      <td>0.818182</td>\n",
       "      <td>0.545455</td>\n",
       "    </tr>\n",
       "    <tr>\n",
       "      <th>Lily</th>\n",
       "      <td>0.818182</td>\n",
       "      <td>0.454545</td>\n",
       "      <td>0.363636</td>\n",
       "      <td>0.636364</td>\n",
       "      <td>0.545455</td>\n",
       "      <td>0.818182</td>\n",
       "      <td>0.545455</td>\n",
       "    </tr>\n",
       "  </tbody>\n",
       "</table>\n",
       "</div>"
      ],
      "text/plain": [
       "              Feedback #1  Feedback #2  Feedback #3  Feedback #4  Feedback #5  \\\n",
       "Intervention                                                                    \n",
       "Julie            0.909091     0.636364     0.818182     0.727273     0.545455   \n",
       "Lily             0.818182     0.454545     0.363636     0.636364     0.545455   \n",
       "\n",
       "              Feedback #6  Feedback #7  \n",
       "Intervention                            \n",
       "Julie            0.818182     0.545455  \n",
       "Lily             0.818182     0.545455  "
      ]
     },
     "execution_count": 22,
     "metadata": {},
     "output_type": "execute_result"
    }
   ],
   "source": [
    "feedback_avg_by_Intervention"
   ]
  },
  {
   "cell_type": "code",
   "execution_count": 31,
   "metadata": {},
   "outputs": [
    {
     "data": {
      "text/plain": [
       "Text(0.5,0,'Location in Course')"
      ]
     },
     "execution_count": 31,
     "metadata": {},
     "output_type": "execute_result"
    },
    {
     "data": {
      "image/png": "[encoded data removed]",
      "text/plain": [
       "<Figure size 864x576 with 1 Axes>"
      ]
     },
     "metadata": {},
     "output_type": "display_data"
    }
   ],
   "source": [
    "temp = feedback_avg_by_Intervention.T\n",
    "plt = temp.plot(figsize = [12,8], grid = True, use_index = True, xticks = np.arange(0, 7, 1), \n",
    "          title = \"Feedback Results Along the Ride for Julie vs Lily Users\")\n",
    "plt.set_ylabel(\"Average Rating\")\n",
    "plt.set_xlabel(\"Location in Course\")"
   ]
  },
  {
   "cell_type": "markdown",
   "metadata": {},
   "source": [
    "This plot shows someting interesting. In the 'Feedback' questions where users were asked mid-ride to evaluate how the digital assistant was doing, Julie scores surprisingly significantly higher than Lily on the 3rd evaluation. What happened at this interval? I wonder why there's such a big difference here. "
   ]
  },
  {
   "cell_type": "markdown",
   "metadata": {},
   "source": [
    "## Mann-Whitney U Test"
   ]
  },
  {
   "cell_type": "code",
   "execution_count": 34,
   "metadata": {},
   "outputs": [],
   "source": [
    "import scipy\n",
    "from scipy import stats"
   ]
  },
  {
   "cell_type": "markdown",
   "metadata": {},
   "source": [
    "### Feedback Score Totals"
   ]
  },
  {
   "cell_type": "code",
   "execution_count": 159,
   "metadata": {},
   "outputs": [
    {
     "name": "stdout",
     "output_type": "stream",
     "text": [
      "Sum of Feedback scores\n"
     ]
    },
    {
     "data": {
      "text/plain": [
       "MannwhitneyuResult(statistic=90.0, pvalue=0.305386896556222)"
      ]
     },
     "execution_count": 159,
     "metadata": {},
     "output_type": "execute_result"
    }
   ],
   "source": [
    "print(\"Sum of Feedback scores\")\n",
    "x = feedback_sum[feedback_sum[\"Intervention\"]==\"Julie\"][\"SumFeedback\"]\n",
    "y = feedback_sum[feedback_sum[\"Intervention\"]==\"Lily\"][\"SumFeedback\"]\n",
    "scipy.stats.mannwhitneyu(x,y, alternative = 'two-sided')"
   ]
  },
  {
   "cell_type": "markdown",
   "metadata": {},
   "source": [
    "No significant difference for the combined Feedback score. "
   ]
  },
  {
   "cell_type": "markdown",
   "metadata": {},
   "source": [
    "### Overall Experience of Riding in the Autonomous Vehicle"
   ]
  },
  {
   "cell_type": "code",
   "execution_count": 92,
   "metadata": {},
   "outputs": [
    {
     "name": "stdout",
     "output_type": "stream",
     "text": [
      "Overall Experience of Riding the Autonomous Vehicle\n"
     ]
    },
    {
     "data": {
      "text/plain": [
       "MannwhitneyuResult(statistic=68.0, pvalue=0.8361643332711484)"
      ]
     },
     "execution_count": 92,
     "metadata": {},
     "output_type": "execute_result"
    }
   ],
   "source": [
    "print(\"Overall Experience of Riding the Autonomous Vehicle\")\n",
    "x = data[data[\"Intervention\"]==\"Julie\"][\"Please rate your overall experience of riding the autonomous vehicle\"]\n",
    "y = data[data[\"Intervention\"]==\"Lily\"][\"Please rate your overall experience of riding the autonomous vehicle\"]\n",
    "scipy.stats.mannwhitneyu(x,y, alternative = 'two-sided')"
   ]
  },
  {
   "cell_type": "markdown",
   "metadata": {},
   "source": [
    "### How likely are you to ride an autonomous vehicle again?"
   ]
  },
  {
   "cell_type": "code",
   "execution_count": 93,
   "metadata": {},
   "outputs": [
    {
     "name": "stdout",
     "output_type": "stream",
     "text": [
      "How likely are you to ride an autonomous vehicle again?\n"
     ]
    },
    {
     "data": {
      "text/plain": [
       "MannwhitneyuResult(statistic=50.0, pvalue=0.18835623958464986)"
      ]
     },
     "execution_count": 93,
     "metadata": {},
     "output_type": "execute_result"
    }
   ],
   "source": [
    "print(\"How likely are you to ride an autonomous vehicle again?\")\n",
    "x = data[data[\"Intervention\"]==\"Julie\"][\"How likely are you to ride an autonomous vehicle again? \"]\n",
    "y = data[data[\"Intervention\"]==\"Lily\"][\"How likely are you to ride an autonomous vehicle again? \"]\n",
    "scipy.stats.mannwhitneyu(x,y, alternative = 'two-sided')"
   ]
  },
  {
   "cell_type": "code",
   "execution_count": 39,
   "metadata": {},
   "outputs": [
    {
     "name": "stdout",
     "output_type": "stream",
     "text": [
      "It is recommendable to others\n"
     ]
    },
    {
     "data": {
      "text/plain": [
       "MannwhitneyuResult(statistic=72.0, pvalue=0.4415281333040998)"
      ]
     },
     "execution_count": 39,
     "metadata": {},
     "output_type": "execute_result"
    }
   ],
   "source": [
    "print(data.columns[16])\n",
    "x = data[data[\"Intervention\"]==\"Julie\"][data.columns[16]]\n",
    "y = data[data[\"Intervention\"]==\"Lily\"][data.columns[16]]\n",
    "scipy.stats.mannwhitneyu(x,y, alternative = 'two-sided')"
   ]
  },
  {
   "cell_type": "markdown",
   "metadata": {},
   "source": [
    "### Comfortable, Friendly, Safe"
   ]
  },
  {
   "cell_type": "code",
   "execution_count": 40,
   "metadata": {},
   "outputs": [
    {
     "name": "stdout",
     "output_type": "stream",
     "text": [
      "How comfortable were you in the autonomous vehicle\n"
     ]
    },
    {
     "data": {
      "text/plain": [
       "MannwhitneyuResult(statistic=72.0, pvalue=0.4415281333040998)"
      ]
     },
     "execution_count": 40,
     "metadata": {},
     "output_type": "execute_result"
    }
   ],
   "source": [
    "print(data.columns[17])\n",
    "x = data[data[\"Intervention\"]==\"Julie\"][data.columns[17]]\n",
    "y = data[data[\"Intervention\"]==\"Lily\"][data.columns[17]]\n",
    "scipy.stats.mannwhitneyu(x,y, alternative = 'two-sided')"
   ]
  },
  {
   "cell_type": "code",
   "execution_count": 41,
   "metadata": {},
   "outputs": [
    {
     "name": "stdout",
     "output_type": "stream",
     "text": [
      "How friendly did you feel the autonomous vehicle was?\n"
     ]
    },
    {
     "data": {
      "text/plain": [
       "MannwhitneyuResult(statistic=54.5, pvalue=0.7124093190334864)"
      ]
     },
     "execution_count": 41,
     "metadata": {},
     "output_type": "execute_result"
    }
   ],
   "source": [
    "print(data.columns[18])\n",
    "x = data[data[\"Intervention\"]==\"Julie\"][data.columns[18]]\n",
    "y = data[data[\"Intervention\"]==\"Lily\"][data.columns[18]]\n",
    "scipy.stats.mannwhitneyu(x,y, alternative = 'two-sided')"
   ]
  },
  {
   "cell_type": "code",
   "execution_count": 42,
   "metadata": {},
   "outputs": [
    {
     "name": "stdout",
     "output_type": "stream",
     "text": [
      "How safe did you feel in the autonomous vehicle? \n"
     ]
    },
    {
     "data": {
      "text/plain": [
       "MannwhitneyuResult(statistic=79.0, pvalue=0.2250538476374807)"
      ]
     },
     "execution_count": 42,
     "metadata": {},
     "output_type": "execute_result"
    }
   ],
   "source": [
    "print(data.columns[19])\n",
    "x = data[data[\"Intervention\"]==\"Julie\"][data.columns[19]]\n",
    "y = data[data[\"Intervention\"]==\"Lily\"][data.columns[19]]\n",
    "scipy.stats.mannwhitneyu(x,y, alternative = 'two-sided')"
   ]
  },
  {
   "cell_type": "markdown",
   "metadata": {},
   "source": [
    "None of these test results came out as statistically significant. "
   ]
  },
  {
   "cell_type": "code",
   "execution_count": null,
   "metadata": {},
   "outputs": [],
   "source": []
  }
 ],
 "metadata": {
  "kernelspec": {
   "display_name": "Python [default]",
   "language": "python",
   "name": "python3"
  },
  "language_info": {
   "codemirror_mode": {
    "name": "ipython",
    "version": 3
   },
   "file_extension": ".py",
   "mimetype": "text/x-python",
   "name": "python",
   "nbconvert_exporter": "python",
   "pygments_lexer": "ipython3",
   "version": "3.6.5"
  }
 },
 "nbformat": 4,
 "nbformat_minor": 2
}
