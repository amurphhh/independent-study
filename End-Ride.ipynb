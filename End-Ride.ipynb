{
 "cells": [
  {
   "cell_type": "markdown",
   "metadata": {},
   "source": [
    "# End Ride Analysis"
   ]
  },
  {
   "cell_type": "markdown",
   "metadata": {},
   "source": [
    "### -------------------------------------"
   ]
  },
  {
   "cell_type": "markdown",
   "metadata": {},
   "source": [
    "# Findings Summary\n",
    "\n",
    "Julie consistently scored higher than Lily on most ratings. Most of these differences were not, however, statistically significant because of the small difference and the small sample size. There were two tests that came back significant:\n",
    "\n",
    "**'Confidence Score'** - a sum of the user's score for questions rating their confidence in the vehicle's capacity in terms of AV Control, Driving Capability, and Decision-making ability - is statistically significant. Julie scored on average 1.5 points higher than Lily.\n",
    "\n",
    "**Future Preference** for a digital assistant was also statistically significant. This comes from the fact that 5 users who had Julie requested to have her again the next time, while Lily didn't receive any requests to keep her as the digital assistant.  \n",
    "\n",
    "Most other columns and metrics were too close to say the differences were statistically significant. "
   ]
  },
  {
   "cell_type": "markdown",
   "metadata": {},
   "source": [
    "### -------------------------------------"
   ]
  },
  {
   "cell_type": "markdown",
   "metadata": {},
   "source": [
    "## EDA"
   ]
  },
  {
   "cell_type": "code",
   "execution_count": 1,
   "metadata": {},
   "outputs": [],
   "source": [
    "import numpy as np\n",
    "import pandas as pd"
   ]
  },
  {
   "cell_type": "code",
   "execution_count": 2,
   "metadata": {},
   "outputs": [],
   "source": [
    "data = pd.read_csv('endridecsv.csv')"
   ]
  },
  {
   "cell_type": "code",
   "execution_count": 3,
   "metadata": {},
   "outputs": [
    {
     "data": {
      "text/plain": [
       "(27, 57)"
      ]
     },
     "execution_count": 3,
     "metadata": {},
     "output_type": "execute_result"
    }
   ],
   "source": [
    "data.shape\n",
    "# 27 rows, 57 columns.\n",
    "#list(data) - all the column names. Some are pretty long so we'll reference many of them by index.\n",
    "#data2.iloc[:,2:7].head()"
   ]
  },
  {
   "cell_type": "code",
   "execution_count": 4,
   "metadata": {},
   "outputs": [
    {
     "data": {
      "text/html": [
       "<div>\n",
       "<style scoped>\n",
       "    .dataframe tbody tr th:only-of-type {\n",
       "        vertical-align: middle;\n",
       "    }\n",
       "\n",
       "    .dataframe tbody tr th {\n",
       "        vertical-align: top;\n",
       "    }\n",
       "\n",
       "    .dataframe thead th {\n",
       "        text-align: right;\n",
       "    }\n",
       "</style>\n",
       "<table border=\"1\" class=\"dataframe\">\n",
       "  <thead>\n",
       "    <tr style=\"text-align: right;\">\n",
       "      <th></th>\n",
       "      <th>Timestamp</th>\n",
       "      <th>Name</th>\n",
       "      <th>On a scale from 1-5, how would you rate your overall user experience in terms of: [Comfort &amp; relaxation during the ride]</th>\n",
       "      <th>On a scale from 1-5, how would you rate your overall user experience in terms of: [Perceived personal safety]</th>\n",
       "      <th>On a scale from 1-5, how would you rate your overall user experience in terms of: [Perceived safety of others]</th>\n",
       "      <th>On a scale from 1-5, how would you rate your overall user experience in terms of: [Degree of vehicle trustworthiness]</th>\n",
       "      <th>On a scale from 1-5, how would you rate your overall user experience in terms of: [Willingness to ride again]</th>\n",
       "      <th>On a scale from 1-5, how would you rate your confidence in the vehicle's capability, in terms of: [AV control ]</th>\n",
       "      <th>On a scale from 1-5, how would you rate your confidence in the vehicle's capability, in terms of: [Driving capability]</th>\n",
       "      <th>On a scale from 1-5, how would you rate your confidence in the vehicle's capability, in terms of: [Decision-making ability]</th>\n",
       "      <th>...</th>\n",
       "      <th>Please indicate if following attributes affected your riding experience:  [Swirviness (side to side motion)]</th>\n",
       "      <th>Please indicate if following attributes affected your riding experience:  [Roundabouts]</th>\n",
       "      <th>Please indicate if following attributes affected your riding experience:  [Sudden stops]</th>\n",
       "      <th>Please comment on how the above factors affected your riding experience, if there were such factors.</th>\n",
       "      <th>Were there other factors that affected your riding experience? Please identify and comment, if there were such factors.</th>\n",
       "      <th>Name from PRE</th>\n",
       "      <th>Name from POST</th>\n",
       "      <th>Name from END</th>\n",
       "      <th>Intervention</th>\n",
       "      <th>Use?</th>\n",
       "    </tr>\n",
       "  </thead>\n",
       "  <tbody>\n",
       "    <tr>\n",
       "      <th>0</th>\n",
       "      <td>7/17/18</td>\n",
       "      <td>babak mortezai</td>\n",
       "      <td>3</td>\n",
       "      <td>3</td>\n",
       "      <td>4</td>\n",
       "      <td>3</td>\n",
       "      <td>4</td>\n",
       "      <td>4</td>\n",
       "      <td>4</td>\n",
       "      <td>4</td>\n",
       "      <td>...</td>\n",
       "      <td>No</td>\n",
       "      <td>Yes</td>\n",
       "      <td>Yes</td>\n",
       "      <td>car went  on stone cobbles which was unexpected</td>\n",
       "      <td>stone cobbles and bumpy ride</td>\n",
       "      <td>babak mortezai</td>\n",
       "      <td>Babak</td>\n",
       "      <td>babak mortezai</td>\n",
       "      <td>Julie</td>\n",
       "      <td>YES</td>\n",
       "    </tr>\n",
       "    <tr>\n",
       "      <th>1</th>\n",
       "      <td>7/19/18</td>\n",
       "      <td>Chris</td>\n",
       "      <td>4</td>\n",
       "      <td>4</td>\n",
       "      <td>3</td>\n",
       "      <td>2</td>\n",
       "      <td>5</td>\n",
       "      <td>3</td>\n",
       "      <td>4</td>\n",
       "      <td>3</td>\n",
       "      <td>...</td>\n",
       "      <td>No</td>\n",
       "      <td>Yes</td>\n",
       "      <td>Yes</td>\n",
       "      <td>Bumpiness is not so bad, Going through the rou...</td>\n",
       "      <td>no</td>\n",
       "      <td>Christian Angerer</td>\n",
       "      <td>Chris</td>\n",
       "      <td>Chris</td>\n",
       "      <td>Lily</td>\n",
       "      <td>Maybe; Semi-autonomous</td>\n",
       "    </tr>\n",
       "    <tr>\n",
       "      <th>2</th>\n",
       "      <td>7/23/18</td>\n",
       "      <td>Kristin Muench</td>\n",
       "      <td>4</td>\n",
       "      <td>4</td>\n",
       "      <td>3</td>\n",
       "      <td>3</td>\n",
       "      <td>4</td>\n",
       "      <td>4</td>\n",
       "      <td>4</td>\n",
       "      <td>3</td>\n",
       "      <td>...</td>\n",
       "      <td>No</td>\n",
       "      <td>Yes</td>\n",
       "      <td>Yes</td>\n",
       "      <td>It was bumpy but similar levels of bumpy/bad s...</td>\n",
       "      <td>0</td>\n",
       "      <td>Kristin Muench</td>\n",
       "      <td>Kristin</td>\n",
       "      <td>Kristin Muench</td>\n",
       "      <td>Julie</td>\n",
       "      <td>Maybe--Wondered if she was being \"punked\"; Sem...</td>\n",
       "    </tr>\n",
       "    <tr>\n",
       "      <th>3</th>\n",
       "      <td>7/27/18</td>\n",
       "      <td>daniel landes</td>\n",
       "      <td>5</td>\n",
       "      <td>5</td>\n",
       "      <td>4</td>\n",
       "      <td>4</td>\n",
       "      <td>5</td>\n",
       "      <td>4</td>\n",
       "      <td>4</td>\n",
       "      <td>4</td>\n",
       "      <td>...</td>\n",
       "      <td>No</td>\n",
       "      <td>Yes</td>\n",
       "      <td>Yes</td>\n",
       "      <td>there was a sudden stop in front of someone cr...</td>\n",
       "      <td>no</td>\n",
       "      <td>daniel landes</td>\n",
       "      <td>Danny</td>\n",
       "      <td>daniel landes</td>\n",
       "      <td>Lily</td>\n",
       "      <td>YES</td>\n",
       "    </tr>\n",
       "    <tr>\n",
       "      <th>4</th>\n",
       "      <td>7/30/18</td>\n",
       "      <td>Aaron Kau</td>\n",
       "      <td>3</td>\n",
       "      <td>5</td>\n",
       "      <td>5</td>\n",
       "      <td>4</td>\n",
       "      <td>4</td>\n",
       "      <td>4</td>\n",
       "      <td>4</td>\n",
       "      <td>2</td>\n",
       "      <td>...</td>\n",
       "      <td>Yes</td>\n",
       "      <td>Yes</td>\n",
       "      <td>Yes</td>\n",
       "      <td>0</td>\n",
       "      <td>0</td>\n",
       "      <td>Aaron Kau</td>\n",
       "      <td>Aaron</td>\n",
       "      <td>Aaron Kau</td>\n",
       "      <td>Julie</td>\n",
       "      <td>NO; knew this was not an AV and filled out the...</td>\n",
       "    </tr>\n",
       "  </tbody>\n",
       "</table>\n",
       "<p>5 rows × 57 columns</p>\n",
       "</div>"
      ],
      "text/plain": [
       "  Timestamp            Name  \\\n",
       "0   7/17/18  babak mortezai   \n",
       "1   7/19/18           Chris   \n",
       "2   7/23/18  Kristin Muench   \n",
       "3   7/27/18   daniel landes   \n",
       "4   7/30/18       Aaron Kau   \n",
       "\n",
       "   On a scale from 1-5, how would you rate your overall user experience in terms of: [Comfort & relaxation during the ride]  \\\n",
       "0                                                  3                                                                          \n",
       "1                                                  4                                                                          \n",
       "2                                                  4                                                                          \n",
       "3                                                  5                                                                          \n",
       "4                                                  3                                                                          \n",
       "\n",
       "   On a scale from 1-5, how would you rate your overall user experience in terms of: [Perceived personal safety]  \\\n",
       "0                                                  3                                                               \n",
       "1                                                  4                                                               \n",
       "2                                                  4                                                               \n",
       "3                                                  5                                                               \n",
       "4                                                  5                                                               \n",
       "\n",
       "   On a scale from 1-5, how would you rate your overall user experience in terms of: [Perceived safety of others]  \\\n",
       "0                                                  4                                                                \n",
       "1                                                  3                                                                \n",
       "2                                                  3                                                                \n",
       "3                                                  4                                                                \n",
       "4                                                  5                                                                \n",
       "\n",
       "   On a scale from 1-5, how would you rate your overall user experience in terms of: [Degree of vehicle trustworthiness]  \\\n",
       "0                                                  3                                                                       \n",
       "1                                                  2                                                                       \n",
       "2                                                  3                                                                       \n",
       "3                                                  4                                                                       \n",
       "4                                                  4                                                                       \n",
       "\n",
       "   On a scale from 1-5, how would you rate your overall user experience in terms of: [Willingness to ride again]  \\\n",
       "0                                                  4                                                               \n",
       "1                                                  5                                                               \n",
       "2                                                  4                                                               \n",
       "3                                                  5                                                               \n",
       "4                                                  4                                                               \n",
       "\n",
       "   On a scale from 1-5, how would you rate your confidence in the vehicle's capability, in terms of: [AV control ]  \\\n",
       "0                                                  4                                                                 \n",
       "1                                                  3                                                                 \n",
       "2                                                  4                                                                 \n",
       "3                                                  4                                                                 \n",
       "4                                                  4                                                                 \n",
       "\n",
       "   On a scale from 1-5, how would you rate your confidence in the vehicle's capability, in terms of: [Driving capability]  \\\n",
       "0                                                  4                                                                        \n",
       "1                                                  4                                                                        \n",
       "2                                                  4                                                                        \n",
       "3                                                  4                                                                        \n",
       "4                                                  4                                                                        \n",
       "\n",
       "   On a scale from 1-5, how would you rate your confidence in the vehicle's capability, in terms of: [Decision-making ability]  \\\n",
       "0                                                  4                                                                             \n",
       "1                                                  3                                                                             \n",
       "2                                                  3                                                                             \n",
       "3                                                  4                                                                             \n",
       "4                                                  2                                                                             \n",
       "\n",
       "                         ...                          \\\n",
       "0                        ...                           \n",
       "1                        ...                           \n",
       "2                        ...                           \n",
       "3                        ...                           \n",
       "4                        ...                           \n",
       "\n",
       "   Please indicate if following attributes affected your riding experience:  [Swirviness (side to side motion)]  \\\n",
       "0                                                 No                                                              \n",
       "1                                                 No                                                              \n",
       "2                                                 No                                                              \n",
       "3                                                 No                                                              \n",
       "4                                                Yes                                                              \n",
       "\n",
       "   Please indicate if following attributes affected your riding experience:  [Roundabouts]  \\\n",
       "0                                                Yes                                         \n",
       "1                                                Yes                                         \n",
       "2                                                Yes                                         \n",
       "3                                                Yes                                         \n",
       "4                                                Yes                                         \n",
       "\n",
       "   Please indicate if following attributes affected your riding experience:  [Sudden stops]  \\\n",
       "0                                                Yes                                          \n",
       "1                                                Yes                                          \n",
       "2                                                Yes                                          \n",
       "3                                                Yes                                          \n",
       "4                                                Yes                                          \n",
       "\n",
       "   Please comment on how the above factors affected your riding experience, if there were such factors.  \\\n",
       "0    car went  on stone cobbles which was unexpected                                                      \n",
       "1  Bumpiness is not so bad, Going through the rou...                                                      \n",
       "2  It was bumpy but similar levels of bumpy/bad s...                                                      \n",
       "3  there was a sudden stop in front of someone cr...                                                      \n",
       "4                                                  0                                                      \n",
       "\n",
       "   Were there other factors that affected your riding experience? Please identify and comment, if there were such factors.  \\\n",
       "0                       stone cobbles and bumpy ride                                                                         \n",
       "1                                                 no                                                                         \n",
       "2                                                  0                                                                         \n",
       "3                                                 no                                                                         \n",
       "4                                                  0                                                                         \n",
       "\n",
       "       Name from PRE Name from POST   Name from END  Intervention  \\\n",
       "0     babak mortezai          Babak  babak mortezai         Julie   \n",
       "1  Christian Angerer          Chris           Chris          Lily   \n",
       "2     Kristin Muench        Kristin  Kristin Muench         Julie   \n",
       "3      daniel landes          Danny   daniel landes          Lily   \n",
       "4          Aaron Kau          Aaron       Aaron Kau         Julie   \n",
       "\n",
       "                                                Use?  \n",
       "0                                                YES  \n",
       "1                             Maybe; Semi-autonomous  \n",
       "2  Maybe--Wondered if she was being \"punked\"; Sem...  \n",
       "3                                                YES  \n",
       "4  NO; knew this was not an AV and filled out the...  \n",
       "\n",
       "[5 rows x 57 columns]"
      ]
     },
     "execution_count": 4,
     "metadata": {},
     "output_type": "execute_result"
    }
   ],
   "source": [
    "data.head()"
   ]
  },
  {
   "cell_type": "markdown",
   "metadata": {},
   "source": [
    "How many users for each assistant? "
   ]
  },
  {
   "cell_type": "code",
   "execution_count": 5,
   "metadata": {},
   "outputs": [
    {
     "data": {
      "text/html": [
       "<div>\n",
       "<style scoped>\n",
       "    .dataframe tbody tr th:only-of-type {\n",
       "        vertical-align: middle;\n",
       "    }\n",
       "\n",
       "    .dataframe tbody tr th {\n",
       "        vertical-align: top;\n",
       "    }\n",
       "\n",
       "    .dataframe thead th {\n",
       "        text-align: right;\n",
       "    }\n",
       "</style>\n",
       "<table border=\"1\" class=\"dataframe\">\n",
       "  <thead>\n",
       "    <tr style=\"text-align: right;\">\n",
       "      <th>col_0</th>\n",
       "      <th>count</th>\n",
       "    </tr>\n",
       "    <tr>\n",
       "      <th>Intervention</th>\n",
       "      <th></th>\n",
       "    </tr>\n",
       "  </thead>\n",
       "  <tbody>\n",
       "    <tr>\n",
       "      <th>Julie</th>\n",
       "      <td>14</td>\n",
       "    </tr>\n",
       "    <tr>\n",
       "      <th>Lily</th>\n",
       "      <td>13</td>\n",
       "    </tr>\n",
       "  </tbody>\n",
       "</table>\n",
       "</div>"
      ],
      "text/plain": [
       "col_0         count\n",
       "Intervention       \n",
       "Julie            14\n",
       "Lily             13"
      ]
     },
     "execution_count": 5,
     "metadata": {},
     "output_type": "execute_result"
    }
   ],
   "source": [
    "pd.crosstab(index=data[\"Intervention\"], columns=\"count\")"
   ]
  },
  {
   "cell_type": "markdown",
   "metadata": {},
   "source": [
    "### Take out the people that knew what was going on"
   ]
  },
  {
   "cell_type": "code",
   "execution_count": 6,
   "metadata": {},
   "outputs": [
    {
     "data": {
      "text/html": [
       "<div>\n",
       "<style scoped>\n",
       "    .dataframe tbody tr th:only-of-type {\n",
       "        vertical-align: middle;\n",
       "    }\n",
       "\n",
       "    .dataframe tbody tr th {\n",
       "        vertical-align: top;\n",
       "    }\n",
       "\n",
       "    .dataframe thead th {\n",
       "        text-align: right;\n",
       "    }\n",
       "</style>\n",
       "<table border=\"1\" class=\"dataframe\">\n",
       "  <thead>\n",
       "    <tr style=\"text-align: right;\">\n",
       "      <th></th>\n",
       "      <th>Intervention</th>\n",
       "      <th>Use?</th>\n",
       "    </tr>\n",
       "  </thead>\n",
       "  <tbody>\n",
       "    <tr>\n",
       "      <th>0</th>\n",
       "      <td>Julie</td>\n",
       "      <td>YES</td>\n",
       "    </tr>\n",
       "    <tr>\n",
       "      <th>1</th>\n",
       "      <td>Lily</td>\n",
       "      <td>Maybe; Semi-autonomous</td>\n",
       "    </tr>\n",
       "    <tr>\n",
       "      <th>2</th>\n",
       "      <td>Julie</td>\n",
       "      <td>Maybe--Wondered if she was being \"punked\"; Sem...</td>\n",
       "    </tr>\n",
       "    <tr>\n",
       "      <th>3</th>\n",
       "      <td>Lily</td>\n",
       "      <td>YES</td>\n",
       "    </tr>\n",
       "    <tr>\n",
       "      <th>4</th>\n",
       "      <td>Julie</td>\n",
       "      <td>NO; knew this was not an AV and filled out the...</td>\n",
       "    </tr>\n",
       "  </tbody>\n",
       "</table>\n",
       "</div>"
      ],
      "text/plain": [
       "  Intervention                                               Use?\n",
       "0        Julie                                                YES\n",
       "1         Lily                             Maybe; Semi-autonomous\n",
       "2        Julie  Maybe--Wondered if she was being \"punked\"; Sem...\n",
       "3         Lily                                                YES\n",
       "4        Julie  NO; knew this was not an AV and filled out the..."
      ]
     },
     "execution_count": 6,
     "metadata": {},
     "output_type": "execute_result"
    }
   ],
   "source": [
    "data[['Intervention','Use?']].head()"
   ]
  },
  {
   "cell_type": "code",
   "execution_count": 8,
   "metadata": {},
   "outputs": [],
   "source": [
    "#data2 = data.loc[~data['Use?'].str.startswith('N')]\n",
    "\n",
    "# if we want to take out the Use? Semi-autonomous\n",
    "#data2 = data2.loc[~data2['Use?'].str.startswith('Semi')]\n",
    "\n",
    "data2 = data.loc[data[\"Use?\"].str.startswith('Y')]"
   ]
  },
  {
   "cell_type": "code",
   "execution_count": 9,
   "metadata": {},
   "outputs": [
    {
     "data": {
      "text/html": [
       "<div>\n",
       "<style scoped>\n",
       "    .dataframe tbody tr th:only-of-type {\n",
       "        vertical-align: middle;\n",
       "    }\n",
       "\n",
       "    .dataframe tbody tr th {\n",
       "        vertical-align: top;\n",
       "    }\n",
       "\n",
       "    .dataframe thead th {\n",
       "        text-align: right;\n",
       "    }\n",
       "</style>\n",
       "<table border=\"1\" class=\"dataframe\">\n",
       "  <thead>\n",
       "    <tr style=\"text-align: right;\">\n",
       "      <th></th>\n",
       "      <th>Intervention</th>\n",
       "      <th>Use?</th>\n",
       "    </tr>\n",
       "  </thead>\n",
       "  <tbody>\n",
       "    <tr>\n",
       "      <th>0</th>\n",
       "      <td>Julie</td>\n",
       "      <td>YES</td>\n",
       "    </tr>\n",
       "    <tr>\n",
       "      <th>3</th>\n",
       "      <td>Lily</td>\n",
       "      <td>YES</td>\n",
       "    </tr>\n",
       "    <tr>\n",
       "      <th>5</th>\n",
       "      <td>Julie</td>\n",
       "      <td>YES</td>\n",
       "    </tr>\n",
       "    <tr>\n",
       "      <th>6</th>\n",
       "      <td>Julie</td>\n",
       "      <td>YES</td>\n",
       "    </tr>\n",
       "    <tr>\n",
       "      <th>7</th>\n",
       "      <td>Lily</td>\n",
       "      <td>YES</td>\n",
       "    </tr>\n",
       "    <tr>\n",
       "      <th>9</th>\n",
       "      <td>Julie</td>\n",
       "      <td>YES</td>\n",
       "    </tr>\n",
       "    <tr>\n",
       "      <th>10</th>\n",
       "      <td>Lily</td>\n",
       "      <td>YES</td>\n",
       "    </tr>\n",
       "    <tr>\n",
       "      <th>11</th>\n",
       "      <td>Julie</td>\n",
       "      <td>YES</td>\n",
       "    </tr>\n",
       "    <tr>\n",
       "      <th>12</th>\n",
       "      <td>Lily</td>\n",
       "      <td>YES</td>\n",
       "    </tr>\n",
       "    <tr>\n",
       "      <th>13</th>\n",
       "      <td>Julie</td>\n",
       "      <td>YES</td>\n",
       "    </tr>\n",
       "    <tr>\n",
       "      <th>14</th>\n",
       "      <td>Lily</td>\n",
       "      <td>YES</td>\n",
       "    </tr>\n",
       "    <tr>\n",
       "      <th>15</th>\n",
       "      <td>Julie</td>\n",
       "      <td>YES</td>\n",
       "    </tr>\n",
       "    <tr>\n",
       "      <th>16</th>\n",
       "      <td>Lily</td>\n",
       "      <td>YES</td>\n",
       "    </tr>\n",
       "    <tr>\n",
       "      <th>17</th>\n",
       "      <td>Lily</td>\n",
       "      <td>YES</td>\n",
       "    </tr>\n",
       "    <tr>\n",
       "      <th>18</th>\n",
       "      <td>Lily</td>\n",
       "      <td>YES</td>\n",
       "    </tr>\n",
       "    <tr>\n",
       "      <th>19</th>\n",
       "      <td>Julie</td>\n",
       "      <td>YES</td>\n",
       "    </tr>\n",
       "    <tr>\n",
       "      <th>20</th>\n",
       "      <td>Lily</td>\n",
       "      <td>YES</td>\n",
       "    </tr>\n",
       "    <tr>\n",
       "      <th>21</th>\n",
       "      <td>Julie</td>\n",
       "      <td>YES</td>\n",
       "    </tr>\n",
       "    <tr>\n",
       "      <th>23</th>\n",
       "      <td>Julie</td>\n",
       "      <td>YES</td>\n",
       "    </tr>\n",
       "    <tr>\n",
       "      <th>24</th>\n",
       "      <td>Lily</td>\n",
       "      <td>YES</td>\n",
       "    </tr>\n",
       "    <tr>\n",
       "      <th>25</th>\n",
       "      <td>Julie</td>\n",
       "      <td>YES</td>\n",
       "    </tr>\n",
       "    <tr>\n",
       "      <th>26</th>\n",
       "      <td>Lily</td>\n",
       "      <td>YES</td>\n",
       "    </tr>\n",
       "  </tbody>\n",
       "</table>\n",
       "</div>"
      ],
      "text/plain": [
       "   Intervention Use?\n",
       "0         Julie  YES\n",
       "3          Lily  YES\n",
       "5         Julie  YES\n",
       "6         Julie  YES\n",
       "7          Lily  YES\n",
       "9         Julie  YES\n",
       "10         Lily  YES\n",
       "11        Julie  YES\n",
       "12         Lily  YES\n",
       "13        Julie  YES\n",
       "14         Lily  YES\n",
       "15        Julie  YES\n",
       "16         Lily  YES\n",
       "17         Lily  YES\n",
       "18         Lily  YES\n",
       "19        Julie  YES\n",
       "20         Lily  YES\n",
       "21        Julie  YES\n",
       "23        Julie  YES\n",
       "24         Lily  YES\n",
       "25        Julie  YES\n",
       "26         Lily  YES"
      ]
     },
     "execution_count": 9,
     "metadata": {},
     "output_type": "execute_result"
    }
   ],
   "source": [
    "data2[['Intervention','Use?']]"
   ]
  },
  {
   "cell_type": "markdown",
   "metadata": {},
   "source": [
    "How many users per assistant now?"
   ]
  },
  {
   "cell_type": "code",
   "execution_count": 10,
   "metadata": {},
   "outputs": [
    {
     "data": {
      "text/html": [
       "<div>\n",
       "<style scoped>\n",
       "    .dataframe tbody tr th:only-of-type {\n",
       "        vertical-align: middle;\n",
       "    }\n",
       "\n",
       "    .dataframe tbody tr th {\n",
       "        vertical-align: top;\n",
       "    }\n",
       "\n",
       "    .dataframe thead th {\n",
       "        text-align: right;\n",
       "    }\n",
       "</style>\n",
       "<table border=\"1\" class=\"dataframe\">\n",
       "  <thead>\n",
       "    <tr style=\"text-align: right;\">\n",
       "      <th>col_0</th>\n",
       "      <th>count</th>\n",
       "    </tr>\n",
       "    <tr>\n",
       "      <th>Intervention</th>\n",
       "      <th></th>\n",
       "    </tr>\n",
       "  </thead>\n",
       "  <tbody>\n",
       "    <tr>\n",
       "      <th>Julie</th>\n",
       "      <td>11</td>\n",
       "    </tr>\n",
       "    <tr>\n",
       "      <th>Lily</th>\n",
       "      <td>11</td>\n",
       "    </tr>\n",
       "  </tbody>\n",
       "</table>\n",
       "</div>"
      ],
      "text/plain": [
       "col_0         count\n",
       "Intervention       \n",
       "Julie            11\n",
       "Lily             11"
      ]
     },
     "execution_count": 10,
     "metadata": {},
     "output_type": "execute_result"
    }
   ],
   "source": [
    "pd.crosstab(index=data2[\"Intervention\"], columns=\"count\")"
   ]
  },
  {
   "cell_type": "markdown",
   "metadata": {},
   "source": [
    "## Summary Tables"
   ]
  },
  {
   "cell_type": "markdown",
   "metadata": {},
   "source": [
    "#### User Experience"
   ]
  },
  {
   "cell_type": "code",
   "execution_count": 12,
   "metadata": {},
   "outputs": [
    {
     "data": {
      "text/html": [
       "<div>\n",
       "<style scoped>\n",
       "    .dataframe tbody tr th:only-of-type {\n",
       "        vertical-align: middle;\n",
       "    }\n",
       "\n",
       "    .dataframe tbody tr th {\n",
       "        vertical-align: top;\n",
       "    }\n",
       "\n",
       "    .dataframe thead th {\n",
       "        text-align: right;\n",
       "    }\n",
       "</style>\n",
       "<table border=\"1\" class=\"dataframe\">\n",
       "  <thead>\n",
       "    <tr style=\"text-align: right;\">\n",
       "      <th></th>\n",
       "      <th>On a scale from 1-5, how would you rate your overall user experience in terms of: [Comfort &amp; relaxation during the ride]</th>\n",
       "      <th>On a scale from 1-5, how would you rate your overall user experience in terms of: [Degree of vehicle trustworthiness]</th>\n",
       "      <th>On a scale from 1-5, how would you rate your overall user experience in terms of: [Perceived personal safety]</th>\n",
       "      <th>On a scale from 1-5, how would you rate your overall user experience in terms of: [Perceived safety of others]</th>\n",
       "      <th>On a scale from 1-5, how would you rate your overall user experience in terms of: [Willingness to ride again]</th>\n",
       "    </tr>\n",
       "    <tr>\n",
       "      <th>Intervention</th>\n",
       "      <th></th>\n",
       "      <th></th>\n",
       "      <th></th>\n",
       "      <th></th>\n",
       "      <th></th>\n",
       "    </tr>\n",
       "  </thead>\n",
       "  <tbody>\n",
       "    <tr>\n",
       "      <th>Julie</th>\n",
       "      <td>4.090909</td>\n",
       "      <td>3.818182</td>\n",
       "      <td>4.181818</td>\n",
       "      <td>4.181818</td>\n",
       "      <td>4.545455</td>\n",
       "    </tr>\n",
       "    <tr>\n",
       "      <th>Lily</th>\n",
       "      <td>3.818182</td>\n",
       "      <td>3.454545</td>\n",
       "      <td>3.909091</td>\n",
       "      <td>3.636364</td>\n",
       "      <td>4.545455</td>\n",
       "    </tr>\n",
       "  </tbody>\n",
       "</table>\n",
       "</div>"
      ],
      "text/plain": [
       "              On a scale from 1-5, how would you rate your overall user experience in terms of: [Comfort & relaxation during the ride]  \\\n",
       "Intervention                                                                                                                             \n",
       "Julie                                                  4.090909                                                                          \n",
       "Lily                                                   3.818182                                                                          \n",
       "\n",
       "              On a scale from 1-5, how would you rate your overall user experience in terms of: [Degree of vehicle trustworthiness]  \\\n",
       "Intervention                                                                                                                          \n",
       "Julie                                                  3.818182                                                                       \n",
       "Lily                                                   3.454545                                                                       \n",
       "\n",
       "              On a scale from 1-5, how would you rate your overall user experience in terms of: [Perceived personal safety]  \\\n",
       "Intervention                                                                                                                  \n",
       "Julie                                                  4.181818                                                               \n",
       "Lily                                                   3.909091                                                               \n",
       "\n",
       "              On a scale from 1-5, how would you rate your overall user experience in terms of: [Perceived safety of others]  \\\n",
       "Intervention                                                                                                                   \n",
       "Julie                                                  4.181818                                                                \n",
       "Lily                                                   3.636364                                                                \n",
       "\n",
       "              On a scale from 1-5, how would you rate your overall user experience in terms of: [Willingness to ride again]  \n",
       "Intervention                                                                                                                 \n",
       "Julie                                                  4.545455                                                              \n",
       "Lily                                                   4.545455                                                              "
      ]
     },
     "execution_count": 12,
     "metadata": {},
     "output_type": "execute_result"
    }
   ],
   "source": [
    "pd.pivot_table(data2, values=(list(data)[2:7]), index=['Intervention'], aggfunc=np.mean)"
   ]
  },
  {
   "cell_type": "markdown",
   "metadata": {},
   "source": [
    "Julie scored higher, on average, for the User Experience questions except for 'Willingness to Ride Again' where the two digital assistants tied. The 'Willingness to Ride Again' is an important question, so I wonder why Julie scores higher in all of the other questions but not in that. "
   ]
  },
  {
   "cell_type": "markdown",
   "metadata": {},
   "source": [
    "#### User Confidence in Vehicle's Capabililty"
   ]
  },
  {
   "cell_type": "code",
   "execution_count": 13,
   "metadata": {},
   "outputs": [
    {
     "data": {
      "text/html": [
       "<div>\n",
       "<style scoped>\n",
       "    .dataframe tbody tr th:only-of-type {\n",
       "        vertical-align: middle;\n",
       "    }\n",
       "\n",
       "    .dataframe tbody tr th {\n",
       "        vertical-align: top;\n",
       "    }\n",
       "\n",
       "    .dataframe thead th {\n",
       "        text-align: right;\n",
       "    }\n",
       "</style>\n",
       "<table border=\"1\" class=\"dataframe\">\n",
       "  <thead>\n",
       "    <tr style=\"text-align: right;\">\n",
       "      <th></th>\n",
       "      <th>On a scale from 1-5, how would you rate your confidence in the vehicle's capability, in terms of: [AV control ]</th>\n",
       "      <th>On a scale from 1-5, how would you rate your confidence in the vehicle's capability, in terms of: [Decision-making ability]</th>\n",
       "      <th>On a scale from 1-5, how would you rate your confidence in the vehicle's capability, in terms of: [Driving capability]</th>\n",
       "    </tr>\n",
       "    <tr>\n",
       "      <th>Intervention</th>\n",
       "      <th></th>\n",
       "      <th></th>\n",
       "      <th></th>\n",
       "    </tr>\n",
       "  </thead>\n",
       "  <tbody>\n",
       "    <tr>\n",
       "      <th>Julie</th>\n",
       "      <td>4.636364</td>\n",
       "      <td>4.000000</td>\n",
       "      <td>4.181818</td>\n",
       "    </tr>\n",
       "    <tr>\n",
       "      <th>Lily</th>\n",
       "      <td>3.909091</td>\n",
       "      <td>3.272727</td>\n",
       "      <td>3.818182</td>\n",
       "    </tr>\n",
       "  </tbody>\n",
       "</table>\n",
       "</div>"
      ],
      "text/plain": [
       "              On a scale from 1-5, how would you rate your confidence in the vehicle's capability, in terms of: [AV control ]  \\\n",
       "Intervention                                                                                                                    \n",
       "Julie                                                  4.636364                                                                 \n",
       "Lily                                                   3.909091                                                                 \n",
       "\n",
       "              On a scale from 1-5, how would you rate your confidence in the vehicle's capability, in terms of: [Decision-making ability]  \\\n",
       "Intervention                                                                                                                                \n",
       "Julie                                                  4.000000                                                                             \n",
       "Lily                                                   3.272727                                                                             \n",
       "\n",
       "              On a scale from 1-5, how would you rate your confidence in the vehicle's capability, in terms of: [Driving capability]  \n",
       "Intervention                                                                                                                          \n",
       "Julie                                                  4.181818                                                                       \n",
       "Lily                                                   3.818182                                                                       "
      ]
     },
     "execution_count": 13,
     "metadata": {},
     "output_type": "execute_result"
    }
   ],
   "source": [
    "# next 3 variables\n",
    "pd.pivot_table(data2, values=(list(data)[7:10]), index=['Intervention'], aggfunc=np.mean)"
   ]
  },
  {
   "cell_type": "markdown",
   "metadata": {},
   "source": [
    "Julie on average scored higher on all questions related to user confidence. "
   ]
  },
  {
   "cell_type": "markdown",
   "metadata": {},
   "source": [
    "#### Friendly, Trustworthy, In Control"
   ]
  },
  {
   "cell_type": "code",
   "execution_count": 14,
   "metadata": {},
   "outputs": [
    {
     "data": {
      "text/html": [
       "<div>\n",
       "<style scoped>\n",
       "    .dataframe tbody tr th:only-of-type {\n",
       "        vertical-align: middle;\n",
       "    }\n",
       "\n",
       "    .dataframe tbody tr th {\n",
       "        vertical-align: top;\n",
       "    }\n",
       "\n",
       "    .dataframe thead th {\n",
       "        text-align: right;\n",
       "    }\n",
       "</style>\n",
       "<table border=\"1\" class=\"dataframe\">\n",
       "  <thead>\n",
       "    <tr style=\"text-align: right;\">\n",
       "      <th></th>\n",
       "      <th>On a scale from 1-5, to what degree did the digital assistant make the self-driving vehicle seem to be the following? [Friendly]</th>\n",
       "      <th>On a scale from 1-5, to what degree did the digital assistant make the self-driving vehicle seem to be the following? [In Control]</th>\n",
       "      <th>On a scale from 1-5, to what degree did the digital assistant make the self-driving vehicle seem to be the following? [Trustworthy]</th>\n",
       "    </tr>\n",
       "    <tr>\n",
       "      <th>Intervention</th>\n",
       "      <th></th>\n",
       "      <th></th>\n",
       "      <th></th>\n",
       "    </tr>\n",
       "  </thead>\n",
       "  <tbody>\n",
       "    <tr>\n",
       "      <th>Julie</th>\n",
       "      <td>4.090909</td>\n",
       "      <td>4.000000</td>\n",
       "      <td>4.181818</td>\n",
       "    </tr>\n",
       "    <tr>\n",
       "      <th>Lily</th>\n",
       "      <td>3.818182</td>\n",
       "      <td>3.454545</td>\n",
       "      <td>3.454545</td>\n",
       "    </tr>\n",
       "  </tbody>\n",
       "</table>\n",
       "</div>"
      ],
      "text/plain": [
       "              On a scale from 1-5, to what degree did the digital assistant make the self-driving vehicle seem to be the following? [Friendly]  \\\n",
       "Intervention                                                                                                                                     \n",
       "Julie                                                  4.090909                                                                                  \n",
       "Lily                                                   3.818182                                                                                  \n",
       "\n",
       "              On a scale from 1-5, to what degree did the digital assistant make the self-driving vehicle seem to be the following? [In Control]  \\\n",
       "Intervention                                                                                                                                       \n",
       "Julie                                                  4.000000                                                                                    \n",
       "Lily                                                   3.454545                                                                                    \n",
       "\n",
       "              On a scale from 1-5, to what degree did the digital assistant make the self-driving vehicle seem to be the following? [Trustworthy]  \n",
       "Intervention                                                                                                                                       \n",
       "Julie                                                  4.181818                                                                                    \n",
       "Lily                                                   3.454545                                                                                    "
      ]
     },
     "execution_count": 14,
     "metadata": {},
     "output_type": "execute_result"
    }
   ],
   "source": [
    "pd.pivot_table(data2, values=(list(data)[13:16]), index=['Intervention'], aggfunc=np.mean)"
   ]
  },
  {
   "cell_type": "markdown",
   "metadata": {},
   "source": [
    "Julie again scores higher, on average, than Lily on these questions, most significantly for trustworthiness. Julie scores higher by more ~.6 on average in helping the Self-driving vehicle seem to be in-control and trustworthy."
   ]
  },
  {
   "cell_type": "markdown",
   "metadata": {},
   "source": [
    "### Awareness being in an AV"
   ]
  },
  {
   "cell_type": "code",
   "execution_count": 18,
   "metadata": {},
   "outputs": [
    {
     "data": {
      "text/html": [
       "<div>\n",
       "<style scoped>\n",
       "    .dataframe tbody tr th:only-of-type {\n",
       "        vertical-align: middle;\n",
       "    }\n",
       "\n",
       "    .dataframe tbody tr th {\n",
       "        vertical-align: top;\n",
       "    }\n",
       "\n",
       "    .dataframe thead th {\n",
       "        text-align: right;\n",
       "    }\n",
       "</style>\n",
       "<table border=\"1\" class=\"dataframe\">\n",
       "  <thead>\n",
       "    <tr style=\"text-align: right;\">\n",
       "      <th></th>\n",
       "      <th>On a scale from 1-5, please rate the degree to which the digital assistant distracted you from an awareness of being in an AV?</th>\n",
       "    </tr>\n",
       "    <tr>\n",
       "      <th>Intervention</th>\n",
       "      <th></th>\n",
       "    </tr>\n",
       "  </thead>\n",
       "  <tbody>\n",
       "    <tr>\n",
       "      <th>Julie</th>\n",
       "      <td>3.000000</td>\n",
       "    </tr>\n",
       "    <tr>\n",
       "      <th>Lily</th>\n",
       "      <td>2.454545</td>\n",
       "    </tr>\n",
       "  </tbody>\n",
       "</table>\n",
       "</div>"
      ],
      "text/plain": [
       "              On a scale from 1-5, please rate the degree to which the digital assistant distracted you from an awareness of being in an AV? \n",
       "Intervention                                                                                                                                 \n",
       "Julie                                                  3.000000                                                                              \n",
       "Lily                                                   2.454545                                                                              "
      ]
     },
     "execution_count": 18,
     "metadata": {},
     "output_type": "execute_result"
    }
   ],
   "source": [
    "pd.pivot_table(data2, values=(list(data2)[31]), index=['Intervention'], aggfunc=np.mean)"
   ]
  },
  {
   "cell_type": "markdown",
   "metadata": {},
   "source": [
    "This may be important. Julie helped distract the riders more than Lily did."
   ]
  },
  {
   "cell_type": "markdown",
   "metadata": {},
   "source": [
    "## Feature Creation"
   ]
  },
  {
   "cell_type": "markdown",
   "metadata": {},
   "source": [
    "I decided to combine some of the questions to create a relevant aggregate score for certain categories. I aggregated the user scores for the following questions: \n",
    "\n",
    "* User Experience questions ('On a scale from 1-5, how would you rate your overall user experience...\") were combined to make a \"User Experience Score\"\n",
    "\n",
    "* Confidence questions (\"On a scale from 1-5, how would you rate your confidence in the vehicle's...\") were combined to create a \"Confidence Score\"\n",
    "\n",
    "* Friendly, Trustworthy, In Control (To what degree did the digital assistant make the self-driving vehicle seem...\") were combined to create a \"Friendly, Trustworthy, In Control\" score"
   ]
  },
  {
   "cell_type": "code",
   "execution_count": 15,
   "metadata": {},
   "outputs": [],
   "source": [
    "# create new column - UserEx_Score - that's the sum of columns 2-7\n",
    "data2 = data2.assign(UX_Score = data2[list(data2)[2:7]].sum(axis = 1))\n",
    "\n",
    "# Confidence in Vehicle Capability\n",
    "data2 = data2.assign(Conf_Score = data2[list(data2)[7:10]].sum(axis = 1))\n",
    "\n",
    "# Trustworthy, Friendly, In Control\n",
    "data2 = data2.assign(TFiC = data2[list(data2)[13:16]].sum(axis = 1))"
   ]
  },
  {
   "cell_type": "code",
   "execution_count": 16,
   "metadata": {},
   "outputs": [
    {
     "data": {
      "text/html": [
       "<div>\n",
       "<style scoped>\n",
       "    .dataframe tbody tr th:only-of-type {\n",
       "        vertical-align: middle;\n",
       "    }\n",
       "\n",
       "    .dataframe tbody tr th {\n",
       "        vertical-align: top;\n",
       "    }\n",
       "\n",
       "    .dataframe thead th {\n",
       "        text-align: right;\n",
       "    }\n",
       "</style>\n",
       "<table border=\"1\" class=\"dataframe\">\n",
       "  <thead>\n",
       "    <tr style=\"text-align: right;\">\n",
       "      <th></th>\n",
       "      <th>Timestamp</th>\n",
       "      <th>Name</th>\n",
       "      <th>On a scale from 1-5, how would you rate your overall user experience in terms of: [Comfort &amp; relaxation during the ride]</th>\n",
       "      <th>On a scale from 1-5, how would you rate your overall user experience in terms of: [Perceived personal safety]</th>\n",
       "      <th>On a scale from 1-5, how would you rate your overall user experience in terms of: [Perceived safety of others]</th>\n",
       "      <th>On a scale from 1-5, how would you rate your overall user experience in terms of: [Degree of vehicle trustworthiness]</th>\n",
       "      <th>On a scale from 1-5, how would you rate your overall user experience in terms of: [Willingness to ride again]</th>\n",
       "      <th>On a scale from 1-5, how would you rate your confidence in the vehicle's capability, in terms of: [AV control ]</th>\n",
       "      <th>On a scale from 1-5, how would you rate your confidence in the vehicle's capability, in terms of: [Driving capability]</th>\n",
       "      <th>On a scale from 1-5, how would you rate your confidence in the vehicle's capability, in terms of: [Decision-making ability]</th>\n",
       "      <th>...</th>\n",
       "      <th>Please comment on how the above factors affected your riding experience, if there were such factors.</th>\n",
       "      <th>Were there other factors that affected your riding experience? Please identify and comment, if there were such factors.</th>\n",
       "      <th>Name from PRE</th>\n",
       "      <th>Name from POST</th>\n",
       "      <th>Name from END</th>\n",
       "      <th>Intervention</th>\n",
       "      <th>Use?</th>\n",
       "      <th>UX_Score</th>\n",
       "      <th>Conf_Score</th>\n",
       "      <th>TFiC</th>\n",
       "    </tr>\n",
       "  </thead>\n",
       "  <tbody>\n",
       "    <tr>\n",
       "      <th>0</th>\n",
       "      <td>7/17/18</td>\n",
       "      <td>babak mortezai</td>\n",
       "      <td>3</td>\n",
       "      <td>3</td>\n",
       "      <td>4</td>\n",
       "      <td>3</td>\n",
       "      <td>4</td>\n",
       "      <td>4</td>\n",
       "      <td>4</td>\n",
       "      <td>4</td>\n",
       "      <td>...</td>\n",
       "      <td>car went  on stone cobbles which was unexpected</td>\n",
       "      <td>stone cobbles and bumpy ride</td>\n",
       "      <td>babak mortezai</td>\n",
       "      <td>Babak</td>\n",
       "      <td>babak mortezai</td>\n",
       "      <td>Julie</td>\n",
       "      <td>YES</td>\n",
       "      <td>17</td>\n",
       "      <td>12</td>\n",
       "      <td>13</td>\n",
       "    </tr>\n",
       "    <tr>\n",
       "      <th>3</th>\n",
       "      <td>7/27/18</td>\n",
       "      <td>daniel landes</td>\n",
       "      <td>5</td>\n",
       "      <td>5</td>\n",
       "      <td>4</td>\n",
       "      <td>4</td>\n",
       "      <td>5</td>\n",
       "      <td>4</td>\n",
       "      <td>4</td>\n",
       "      <td>4</td>\n",
       "      <td>...</td>\n",
       "      <td>there was a sudden stop in front of someone cr...</td>\n",
       "      <td>no</td>\n",
       "      <td>daniel landes</td>\n",
       "      <td>Danny</td>\n",
       "      <td>daniel landes</td>\n",
       "      <td>Lily</td>\n",
       "      <td>YES</td>\n",
       "      <td>23</td>\n",
       "      <td>12</td>\n",
       "      <td>12</td>\n",
       "    </tr>\n",
       "    <tr>\n",
       "      <th>5</th>\n",
       "      <td>7/31/18</td>\n",
       "      <td>Kevin</td>\n",
       "      <td>3</td>\n",
       "      <td>4</td>\n",
       "      <td>4</td>\n",
       "      <td>3</td>\n",
       "      <td>4</td>\n",
       "      <td>4</td>\n",
       "      <td>3</td>\n",
       "      <td>3</td>\n",
       "      <td>...</td>\n",
       "      <td>Going in a loop while it reroutes is pretty ja...</td>\n",
       "      <td>Stops feel abrupt sometimes, going through spe...</td>\n",
       "      <td>Kevin Goncalves</td>\n",
       "      <td>Kevin</td>\n",
       "      <td>Kevin</td>\n",
       "      <td>Julie</td>\n",
       "      <td>YES</td>\n",
       "      <td>18</td>\n",
       "      <td>10</td>\n",
       "      <td>9</td>\n",
       "    </tr>\n",
       "    <tr>\n",
       "      <th>6</th>\n",
       "      <td>8/3/18</td>\n",
       "      <td>Cortney Hamilton</td>\n",
       "      <td>4</td>\n",
       "      <td>4</td>\n",
       "      <td>4</td>\n",
       "      <td>4</td>\n",
       "      <td>5</td>\n",
       "      <td>5</td>\n",
       "      <td>5</td>\n",
       "      <td>4</td>\n",
       "      <td>...</td>\n",
       "      <td>I didn't like going around the traffic circle ...</td>\n",
       "      <td>No</td>\n",
       "      <td>Cortney Miller</td>\n",
       "      <td>Cortney</td>\n",
       "      <td>Cortney Hamilton</td>\n",
       "      <td>Julie</td>\n",
       "      <td>YES</td>\n",
       "      <td>21</td>\n",
       "      <td>14</td>\n",
       "      <td>12</td>\n",
       "    </tr>\n",
       "    <tr>\n",
       "      <th>7</th>\n",
       "      <td>8/3/18</td>\n",
       "      <td>Michelle Blum Atkinson</td>\n",
       "      <td>3</td>\n",
       "      <td>3</td>\n",
       "      <td>2</td>\n",
       "      <td>2</td>\n",
       "      <td>5</td>\n",
       "      <td>3</td>\n",
       "      <td>2</td>\n",
       "      <td>3</td>\n",
       "      <td>...</td>\n",
       "      <td>Some of the above factors made me nervous abou...</td>\n",
       "      <td>I wish I could have seen out the front window ...</td>\n",
       "      <td>Michelle Blum Atkinson</td>\n",
       "      <td>Michelle</td>\n",
       "      <td>Michelle Blum Atkinson</td>\n",
       "      <td>Lily</td>\n",
       "      <td>YES</td>\n",
       "      <td>15</td>\n",
       "      <td>8</td>\n",
       "      <td>12</td>\n",
       "    </tr>\n",
       "  </tbody>\n",
       "</table>\n",
       "<p>5 rows × 60 columns</p>\n",
       "</div>"
      ],
      "text/plain": [
       "  Timestamp                    Name  \\\n",
       "0   7/17/18          babak mortezai   \n",
       "3   7/27/18           daniel landes   \n",
       "5   7/31/18                   Kevin   \n",
       "6    8/3/18        Cortney Hamilton   \n",
       "7    8/3/18  Michelle Blum Atkinson   \n",
       "\n",
       "   On a scale from 1-5, how would you rate your overall user experience in terms of: [Comfort & relaxation during the ride]  \\\n",
       "0                                                  3                                                                          \n",
       "3                                                  5                                                                          \n",
       "5                                                  3                                                                          \n",
       "6                                                  4                                                                          \n",
       "7                                                  3                                                                          \n",
       "\n",
       "   On a scale from 1-5, how would you rate your overall user experience in terms of: [Perceived personal safety]  \\\n",
       "0                                                  3                                                               \n",
       "3                                                  5                                                               \n",
       "5                                                  4                                                               \n",
       "6                                                  4                                                               \n",
       "7                                                  3                                                               \n",
       "\n",
       "   On a scale from 1-5, how would you rate your overall user experience in terms of: [Perceived safety of others]  \\\n",
       "0                                                  4                                                                \n",
       "3                                                  4                                                                \n",
       "5                                                  4                                                                \n",
       "6                                                  4                                                                \n",
       "7                                                  2                                                                \n",
       "\n",
       "   On a scale from 1-5, how would you rate your overall user experience in terms of: [Degree of vehicle trustworthiness]  \\\n",
       "0                                                  3                                                                       \n",
       "3                                                  4                                                                       \n",
       "5                                                  3                                                                       \n",
       "6                                                  4                                                                       \n",
       "7                                                  2                                                                       \n",
       "\n",
       "   On a scale from 1-5, how would you rate your overall user experience in terms of: [Willingness to ride again]  \\\n",
       "0                                                  4                                                               \n",
       "3                                                  5                                                               \n",
       "5                                                  4                                                               \n",
       "6                                                  5                                                               \n",
       "7                                                  5                                                               \n",
       "\n",
       "   On a scale from 1-5, how would you rate your confidence in the vehicle's capability, in terms of: [AV control ]  \\\n",
       "0                                                  4                                                                 \n",
       "3                                                  4                                                                 \n",
       "5                                                  4                                                                 \n",
       "6                                                  5                                                                 \n",
       "7                                                  3                                                                 \n",
       "\n",
       "   On a scale from 1-5, how would you rate your confidence in the vehicle's capability, in terms of: [Driving capability]  \\\n",
       "0                                                  4                                                                        \n",
       "3                                                  4                                                                        \n",
       "5                                                  3                                                                        \n",
       "6                                                  5                                                                        \n",
       "7                                                  2                                                                        \n",
       "\n",
       "   On a scale from 1-5, how would you rate your confidence in the vehicle's capability, in terms of: [Decision-making ability]  \\\n",
       "0                                                  4                                                                             \n",
       "3                                                  4                                                                             \n",
       "5                                                  3                                                                             \n",
       "6                                                  4                                                                             \n",
       "7                                                  3                                                                             \n",
       "\n",
       "  ...   \\\n",
       "0 ...    \n",
       "3 ...    \n",
       "5 ...    \n",
       "6 ...    \n",
       "7 ...    \n",
       "\n",
       "   Please comment on how the above factors affected your riding experience, if there were such factors.  \\\n",
       "0    car went  on stone cobbles which was unexpected                                                      \n",
       "3  there was a sudden stop in front of someone cr...                                                      \n",
       "5  Going in a loop while it reroutes is pretty ja...                                                      \n",
       "6  I didn't like going around the traffic circle ...                                                      \n",
       "7  Some of the above factors made me nervous abou...                                                      \n",
       "\n",
       "   Were there other factors that affected your riding experience? Please identify and comment, if there were such factors.  \\\n",
       "0                       stone cobbles and bumpy ride                                                                         \n",
       "3                                                 no                                                                         \n",
       "5  Stops feel abrupt sometimes, going through spe...                                                                         \n",
       "6                                                 No                                                                         \n",
       "7  I wish I could have seen out the front window ...                                                                         \n",
       "\n",
       "            Name from PRE  Name from POST           Name from END  \\\n",
       "0          babak mortezai           Babak          babak mortezai   \n",
       "3           daniel landes           Danny           daniel landes   \n",
       "5         Kevin Goncalves           Kevin                   Kevin   \n",
       "6          Cortney Miller         Cortney        Cortney Hamilton   \n",
       "7  Michelle Blum Atkinson        Michelle  Michelle Blum Atkinson   \n",
       "\n",
       "   Intervention Use? UX_Score  Conf_Score TFiC  \n",
       "0         Julie  YES       17          12   13  \n",
       "3          Lily  YES       23          12   12  \n",
       "5         Julie  YES       18          10    9  \n",
       "6         Julie  YES       21          14   12  \n",
       "7          Lily  YES       15           8   12  \n",
       "\n",
       "[5 rows x 60 columns]"
      ]
     },
     "execution_count": 16,
     "metadata": {},
     "output_type": "execute_result"
    }
   ],
   "source": [
    "data2.head()"
   ]
  },
  {
   "cell_type": "markdown",
   "metadata": {},
   "source": [
    "### Combined Column Scores"
   ]
  },
  {
   "cell_type": "code",
   "execution_count": 19,
   "metadata": {},
   "outputs": [
    {
     "data": {
      "text/html": [
       "<div>\n",
       "<style scoped>\n",
       "    .dataframe tbody tr th:only-of-type {\n",
       "        vertical-align: middle;\n",
       "    }\n",
       "\n",
       "    .dataframe tbody tr th {\n",
       "        vertical-align: top;\n",
       "    }\n",
       "\n",
       "    .dataframe thead th {\n",
       "        text-align: right;\n",
       "    }\n",
       "</style>\n",
       "<table border=\"1\" class=\"dataframe\">\n",
       "  <thead>\n",
       "    <tr style=\"text-align: right;\">\n",
       "      <th></th>\n",
       "      <th>Conf_Score</th>\n",
       "      <th>TFiC</th>\n",
       "      <th>UX_Score</th>\n",
       "    </tr>\n",
       "    <tr>\n",
       "      <th>Intervention</th>\n",
       "      <th></th>\n",
       "      <th></th>\n",
       "      <th></th>\n",
       "    </tr>\n",
       "  </thead>\n",
       "  <tbody>\n",
       "    <tr>\n",
       "      <th>Julie</th>\n",
       "      <td>12.818182</td>\n",
       "      <td>12.272727</td>\n",
       "      <td>20.818182</td>\n",
       "    </tr>\n",
       "    <tr>\n",
       "      <th>Lily</th>\n",
       "      <td>11.000000</td>\n",
       "      <td>10.727273</td>\n",
       "      <td>19.363636</td>\n",
       "    </tr>\n",
       "  </tbody>\n",
       "</table>\n",
       "</div>"
      ],
      "text/plain": [
       "              Conf_Score       TFiC   UX_Score\n",
       "Intervention                                  \n",
       "Julie          12.818182  12.272727  20.818182\n",
       "Lily           11.000000  10.727273  19.363636"
      ]
     },
     "execution_count": 19,
     "metadata": {},
     "output_type": "execute_result"
    }
   ],
   "source": [
    "pd.pivot_table(data2, values=(list(data2)[57:60]), index=['Intervention'], aggfunc=np.mean)"
   ]
  },
  {
   "cell_type": "markdown",
   "metadata": {},
   "source": [
    "As seen in the other summary tables, Julie scored higher on average than Lily, but only between 1.5 and 2 points. Since these scores are the sum of 3-5 questions, this isn't too big of a difference. "
   ]
  },
  {
   "cell_type": "markdown",
   "metadata": {},
   "source": [
    "### Future Preference for Digital Assistant"
   ]
  },
  {
   "cell_type": "code",
   "execution_count": 20,
   "metadata": {},
   "outputs": [
    {
     "data": {
      "text/plain": [
       "{'FuturePreference': {'Try another assistant': -1,\n",
       "  'Keep the same assistant': 1,\n",
       "  'No preference': 0}}"
      ]
     },
     "execution_count": 20,
     "metadata": {},
     "output_type": "execute_result"
    }
   ],
   "source": [
    "#if data2[list(data2)[35]] == \"Keep the same assitant\"\n",
    "data2[list(data2)[35]].value_counts()\n",
    "\n",
    "cleanup_nums = {'FuturePreference':     {\"Try another assistant\": -1, \"Keep the same assistant\": 1, \n",
    "                                         \"No preference\": 0}}\n",
    "cleanup_nums"
   ]
  },
  {
   "cell_type": "code",
   "execution_count": 21,
   "metadata": {},
   "outputs": [],
   "source": [
    "data2 = data2.assign(FuturePreference = data2[list(data2)[35]])\n",
    "\n",
    "data2.replace(cleanup_nums, inplace=True)"
   ]
  },
  {
   "cell_type": "code",
   "execution_count": 22,
   "metadata": {},
   "outputs": [
    {
     "data": {
      "text/html": [
       "<div>\n",
       "<style scoped>\n",
       "    .dataframe tbody tr th:only-of-type {\n",
       "        vertical-align: middle;\n",
       "    }\n",
       "\n",
       "    .dataframe tbody tr th {\n",
       "        vertical-align: top;\n",
       "    }\n",
       "\n",
       "    .dataframe thead th {\n",
       "        text-align: right;\n",
       "    }\n",
       "</style>\n",
       "<table border=\"1\" class=\"dataframe\">\n",
       "  <thead>\n",
       "    <tr style=\"text-align: right;\">\n",
       "      <th></th>\n",
       "      <th>Timestamp</th>\n",
       "      <th>Name</th>\n",
       "      <th>On a scale from 1-5, how would you rate your overall user experience in terms of: [Comfort &amp; relaxation during the ride]</th>\n",
       "      <th>On a scale from 1-5, how would you rate your overall user experience in terms of: [Perceived personal safety]</th>\n",
       "      <th>On a scale from 1-5, how would you rate your overall user experience in terms of: [Perceived safety of others]</th>\n",
       "      <th>On a scale from 1-5, how would you rate your overall user experience in terms of: [Degree of vehicle trustworthiness]</th>\n",
       "      <th>On a scale from 1-5, how would you rate your overall user experience in terms of: [Willingness to ride again]</th>\n",
       "      <th>On a scale from 1-5, how would you rate your confidence in the vehicle's capability, in terms of: [AV control ]</th>\n",
       "      <th>On a scale from 1-5, how would you rate your confidence in the vehicle's capability, in terms of: [Driving capability]</th>\n",
       "      <th>On a scale from 1-5, how would you rate your confidence in the vehicle's capability, in terms of: [Decision-making ability]</th>\n",
       "      <th>...</th>\n",
       "      <th>Were there other factors that affected your riding experience? Please identify and comment, if there were such factors.</th>\n",
       "      <th>Name from PRE</th>\n",
       "      <th>Name from POST</th>\n",
       "      <th>Name from END</th>\n",
       "      <th>Intervention</th>\n",
       "      <th>Use?</th>\n",
       "      <th>UX_Score</th>\n",
       "      <th>Conf_Score</th>\n",
       "      <th>TFiC</th>\n",
       "      <th>FuturePreference</th>\n",
       "    </tr>\n",
       "  </thead>\n",
       "  <tbody>\n",
       "    <tr>\n",
       "      <th>0</th>\n",
       "      <td>7/17/18</td>\n",
       "      <td>babak mortezai</td>\n",
       "      <td>3</td>\n",
       "      <td>3</td>\n",
       "      <td>4</td>\n",
       "      <td>3</td>\n",
       "      <td>4</td>\n",
       "      <td>4</td>\n",
       "      <td>4</td>\n",
       "      <td>4</td>\n",
       "      <td>...</td>\n",
       "      <td>stone cobbles and bumpy ride</td>\n",
       "      <td>babak mortezai</td>\n",
       "      <td>Babak</td>\n",
       "      <td>babak mortezai</td>\n",
       "      <td>Julie</td>\n",
       "      <td>YES</td>\n",
       "      <td>17</td>\n",
       "      <td>12</td>\n",
       "      <td>13</td>\n",
       "      <td>1</td>\n",
       "    </tr>\n",
       "    <tr>\n",
       "      <th>3</th>\n",
       "      <td>7/27/18</td>\n",
       "      <td>daniel landes</td>\n",
       "      <td>5</td>\n",
       "      <td>5</td>\n",
       "      <td>4</td>\n",
       "      <td>4</td>\n",
       "      <td>5</td>\n",
       "      <td>4</td>\n",
       "      <td>4</td>\n",
       "      <td>4</td>\n",
       "      <td>...</td>\n",
       "      <td>no</td>\n",
       "      <td>daniel landes</td>\n",
       "      <td>Danny</td>\n",
       "      <td>daniel landes</td>\n",
       "      <td>Lily</td>\n",
       "      <td>YES</td>\n",
       "      <td>23</td>\n",
       "      <td>12</td>\n",
       "      <td>12</td>\n",
       "      <td>0</td>\n",
       "    </tr>\n",
       "    <tr>\n",
       "      <th>5</th>\n",
       "      <td>7/31/18</td>\n",
       "      <td>Kevin</td>\n",
       "      <td>3</td>\n",
       "      <td>4</td>\n",
       "      <td>4</td>\n",
       "      <td>3</td>\n",
       "      <td>4</td>\n",
       "      <td>4</td>\n",
       "      <td>3</td>\n",
       "      <td>3</td>\n",
       "      <td>...</td>\n",
       "      <td>Stops feel abrupt sometimes, going through spe...</td>\n",
       "      <td>Kevin Goncalves</td>\n",
       "      <td>Kevin</td>\n",
       "      <td>Kevin</td>\n",
       "      <td>Julie</td>\n",
       "      <td>YES</td>\n",
       "      <td>18</td>\n",
       "      <td>10</td>\n",
       "      <td>9</td>\n",
       "      <td>-1</td>\n",
       "    </tr>\n",
       "    <tr>\n",
       "      <th>6</th>\n",
       "      <td>8/3/18</td>\n",
       "      <td>Cortney Hamilton</td>\n",
       "      <td>4</td>\n",
       "      <td>4</td>\n",
       "      <td>4</td>\n",
       "      <td>4</td>\n",
       "      <td>5</td>\n",
       "      <td>5</td>\n",
       "      <td>5</td>\n",
       "      <td>4</td>\n",
       "      <td>...</td>\n",
       "      <td>No</td>\n",
       "      <td>Cortney Miller</td>\n",
       "      <td>Cortney</td>\n",
       "      <td>Cortney Hamilton</td>\n",
       "      <td>Julie</td>\n",
       "      <td>YES</td>\n",
       "      <td>21</td>\n",
       "      <td>14</td>\n",
       "      <td>12</td>\n",
       "      <td>1</td>\n",
       "    </tr>\n",
       "    <tr>\n",
       "      <th>7</th>\n",
       "      <td>8/3/18</td>\n",
       "      <td>Michelle Blum Atkinson</td>\n",
       "      <td>3</td>\n",
       "      <td>3</td>\n",
       "      <td>2</td>\n",
       "      <td>2</td>\n",
       "      <td>5</td>\n",
       "      <td>3</td>\n",
       "      <td>2</td>\n",
       "      <td>3</td>\n",
       "      <td>...</td>\n",
       "      <td>I wish I could have seen out the front window ...</td>\n",
       "      <td>Michelle Blum Atkinson</td>\n",
       "      <td>Michelle</td>\n",
       "      <td>Michelle Blum Atkinson</td>\n",
       "      <td>Lily</td>\n",
       "      <td>YES</td>\n",
       "      <td>15</td>\n",
       "      <td>8</td>\n",
       "      <td>12</td>\n",
       "      <td>-1</td>\n",
       "    </tr>\n",
       "  </tbody>\n",
       "</table>\n",
       "<p>5 rows × 61 columns</p>\n",
       "</div>"
      ],
      "text/plain": [
       "  Timestamp                    Name  \\\n",
       "0   7/17/18          babak mortezai   \n",
       "3   7/27/18           daniel landes   \n",
       "5   7/31/18                   Kevin   \n",
       "6    8/3/18        Cortney Hamilton   \n",
       "7    8/3/18  Michelle Blum Atkinson   \n",
       "\n",
       "   On a scale from 1-5, how would you rate your overall user experience in terms of: [Comfort & relaxation during the ride]  \\\n",
       "0                                                  3                                                                          \n",
       "3                                                  5                                                                          \n",
       "5                                                  3                                                                          \n",
       "6                                                  4                                                                          \n",
       "7                                                  3                                                                          \n",
       "\n",
       "   On a scale from 1-5, how would you rate your overall user experience in terms of: [Perceived personal safety]  \\\n",
       "0                                                  3                                                               \n",
       "3                                                  5                                                               \n",
       "5                                                  4                                                               \n",
       "6                                                  4                                                               \n",
       "7                                                  3                                                               \n",
       "\n",
       "   On a scale from 1-5, how would you rate your overall user experience in terms of: [Perceived safety of others]  \\\n",
       "0                                                  4                                                                \n",
       "3                                                  4                                                                \n",
       "5                                                  4                                                                \n",
       "6                                                  4                                                                \n",
       "7                                                  2                                                                \n",
       "\n",
       "   On a scale from 1-5, how would you rate your overall user experience in terms of: [Degree of vehicle trustworthiness]  \\\n",
       "0                                                  3                                                                       \n",
       "3                                                  4                                                                       \n",
       "5                                                  3                                                                       \n",
       "6                                                  4                                                                       \n",
       "7                                                  2                                                                       \n",
       "\n",
       "   On a scale from 1-5, how would you rate your overall user experience in terms of: [Willingness to ride again]  \\\n",
       "0                                                  4                                                               \n",
       "3                                                  5                                                               \n",
       "5                                                  4                                                               \n",
       "6                                                  5                                                               \n",
       "7                                                  5                                                               \n",
       "\n",
       "   On a scale from 1-5, how would you rate your confidence in the vehicle's capability, in terms of: [AV control ]  \\\n",
       "0                                                  4                                                                 \n",
       "3                                                  4                                                                 \n",
       "5                                                  4                                                                 \n",
       "6                                                  5                                                                 \n",
       "7                                                  3                                                                 \n",
       "\n",
       "   On a scale from 1-5, how would you rate your confidence in the vehicle's capability, in terms of: [Driving capability]  \\\n",
       "0                                                  4                                                                        \n",
       "3                                                  4                                                                        \n",
       "5                                                  3                                                                        \n",
       "6                                                  5                                                                        \n",
       "7                                                  2                                                                        \n",
       "\n",
       "   On a scale from 1-5, how would you rate your confidence in the vehicle's capability, in terms of: [Decision-making ability]  \\\n",
       "0                                                  4                                                                             \n",
       "3                                                  4                                                                             \n",
       "5                                                  3                                                                             \n",
       "6                                                  4                                                                             \n",
       "7                                                  3                                                                             \n",
       "\n",
       "        ...         \\\n",
       "0       ...          \n",
       "3       ...          \n",
       "5       ...          \n",
       "6       ...          \n",
       "7       ...          \n",
       "\n",
       "   Were there other factors that affected your riding experience? Please identify and comment, if there were such factors.  \\\n",
       "0                       stone cobbles and bumpy ride                                                                         \n",
       "3                                                 no                                                                         \n",
       "5  Stops feel abrupt sometimes, going through spe...                                                                         \n",
       "6                                                 No                                                                         \n",
       "7  I wish I could have seen out the front window ...                                                                         \n",
       "\n",
       "            Name from PRE  Name from POST           Name from END  \\\n",
       "0          babak mortezai           Babak          babak mortezai   \n",
       "3           daniel landes           Danny           daniel landes   \n",
       "5         Kevin Goncalves           Kevin                   Kevin   \n",
       "6          Cortney Miller         Cortney        Cortney Hamilton   \n",
       "7  Michelle Blum Atkinson        Michelle  Michelle Blum Atkinson   \n",
       "\n",
       "   Intervention  Use? UX_Score Conf_Score  TFiC FuturePreference  \n",
       "0         Julie   YES       17         12    13                1  \n",
       "3          Lily   YES       23         12    12                0  \n",
       "5         Julie   YES       18         10     9               -1  \n",
       "6         Julie   YES       21         14    12                1  \n",
       "7          Lily   YES       15          8    12               -1  \n",
       "\n",
       "[5 rows x 61 columns]"
      ]
     },
     "execution_count": 22,
     "metadata": {},
     "output_type": "execute_result"
    }
   ],
   "source": [
    "data2.head()"
   ]
  },
  {
   "cell_type": "code",
   "execution_count": 23,
   "metadata": {},
   "outputs": [
    {
     "data": {
      "text/plain": [
       "Intervention  FuturePreference\n",
       "Julie         -1                  4\n",
       "               0                  2\n",
       "               1                  5\n",
       "Lily          -1                  8\n",
       "               0                  3\n",
       "Name: FuturePreference, dtype: int64"
      ]
     },
     "execution_count": 23,
     "metadata": {},
     "output_type": "execute_result"
    }
   ],
   "source": [
    "#data2[\"FuturePreference\"].groupby(\"Intervention\").count()\n",
    "data2.groupby(\"Intervention\")[\"FuturePreference\"].count()\n",
    "data2.groupby(\"Intervention\")[\"FuturePreference\"].value_counts(sort = False)"
   ]
  },
  {
   "cell_type": "markdown",
   "metadata": {},
   "source": [
    "Julie scored 5 'Keep the same assistant', yet Lily didn't score any. 9 of the 12 users who had Lily requested to have a different assistant the next time. "
   ]
  },
  {
   "cell_type": "markdown",
   "metadata": {},
   "source": [
    "## Mann-Whitney U test"
   ]
  },
  {
   "cell_type": "markdown",
   "metadata": {},
   "source": [
    "The Mann-Whitney U test is a non-parametric, unpaired test and will determine if the differences between scores of the digital assistants are significant or not. "
   ]
  },
  {
   "cell_type": "code",
   "execution_count": 24,
   "metadata": {},
   "outputs": [],
   "source": [
    "import scipy\n",
    "from scipy import stats"
   ]
  },
  {
   "cell_type": "markdown",
   "metadata": {},
   "source": [
    "## Significant tests"
   ]
  },
  {
   "cell_type": "markdown",
   "metadata": {},
   "source": [
    "#### Confidence Score"
   ]
  },
  {
   "cell_type": "code",
   "execution_count": 27,
   "metadata": {},
   "outputs": [
    {
     "name": "stdout",
     "output_type": "stream",
     "text": [
      "Conf_Score\n"
     ]
    },
    {
     "data": {
      "text/plain": [
       "MannwhitneyuResult(statistic=96.0, pvalue=0.01951748118217775)"
      ]
     },
     "execution_count": 27,
     "metadata": {},
     "output_type": "execute_result"
    }
   ],
   "source": [
    "print(list(data2)[58])\n",
    "x = data2.loc[data2['Intervention']=='Julie'][list(data2)[58]]\n",
    "y = data2.loc[data2['Intervention']=='Lily'][list(data2)[58]]\n",
    "scipy.stats.mannwhitneyu(x,y, alternative = 'two-sided')"
   ]
  },
  {
   "cell_type": "markdown",
   "metadata": {},
   "source": [
    "#### Future Preference for a Digital Assistant"
   ]
  },
  {
   "cell_type": "code",
   "execution_count": 29,
   "metadata": {},
   "outputs": [
    {
     "name": "stdout",
     "output_type": "stream",
     "text": [
      "FuturePreference\n",
      "MannwhitneyuResult(statistic=90.0, pvalue=0.03501555442686633)\n"
     ]
    }
   ],
   "source": [
    "i = 60\n",
    "print(list(data2)[i])\n",
    "x = data2.loc[data2['Intervention']=='Julie'][list(data2)[i]]\n",
    "y = data2.loc[data2['Intervention']=='Lily'][list(data2)[i]]\n",
    "print(scipy.stats.mannwhitneyu(x,y, alternative = 'two-sided'))"
   ]
  },
  {
   "cell_type": "markdown",
   "metadata": {},
   "source": [
    "## Insignificant tests"
   ]
  },
  {
   "cell_type": "markdown",
   "metadata": {},
   "source": [
    "#### Comparing Comfort and Relaxation During the Ride"
   ]
  },
  {
   "cell_type": "code",
   "execution_count": 25,
   "metadata": {},
   "outputs": [
    {
     "name": "stdout",
     "output_type": "stream",
     "text": [
      "On a scale from 1-5, how would you rate your overall user experience in terms of: [Comfort & relaxation during the ride]\n"
     ]
    },
    {
     "data": {
      "text/plain": [
       "MannwhitneyuResult(statistic=69.5, pvalue=0.2782804789848343)"
      ]
     },
     "execution_count": 25,
     "metadata": {},
     "output_type": "execute_result"
    }
   ],
   "source": [
    "print(list(data2)[2])\n",
    "x = data2.loc[data2['Intervention']=='Julie'][list(data2)[2]]\n",
    "y = data2.loc[data2['Intervention']=='Lily'][list(data2)[2]]\n",
    "scipy.stats.mannwhitneyu(x,y, alternative = 'greater')"
   ]
  },
  {
   "cell_type": "markdown",
   "metadata": {},
   "source": [
    "#### User Experience Score"
   ]
  },
  {
   "cell_type": "code",
   "execution_count": 26,
   "metadata": {},
   "outputs": [
    {
     "name": "stdout",
     "output_type": "stream",
     "text": [
      "UX_Score\n"
     ]
    },
    {
     "data": {
      "text/plain": [
       "MannwhitneyuResult(statistic=74.5, pvalue=0.37237387607788974)"
      ]
     },
     "execution_count": 26,
     "metadata": {},
     "output_type": "execute_result"
    }
   ],
   "source": [
    "print(list(data2)[57])\n",
    "x = data2.loc[data2['Intervention']=='Julie'][list(data2)[57]]\n",
    "y = data2.loc[data2['Intervention']=='Lily'][list(data2)[57]]\n",
    "scipy.stats.mannwhitneyu(x,y, alternative = 'two-sided')"
   ]
  },
  {
   "cell_type": "markdown",
   "metadata": {},
   "source": [
    "#### Trustworthy, In Control, Friendly Score"
   ]
  },
  {
   "cell_type": "code",
   "execution_count": 28,
   "metadata": {},
   "outputs": [
    {
     "name": "stdout",
     "output_type": "stream",
     "text": [
      "TFiC\n",
      "MannwhitneyuResult(statistic=78.5, pvalue=0.24537030363424872)\n"
     ]
    }
   ],
   "source": [
    "i = 59\n",
    "print(list(data2)[i])\n",
    "x = data2.loc[data2['Intervention']=='Julie'][list(data2)[i]]\n",
    "y = data2.loc[data2['Intervention']=='Lily'][list(data2)[i]]\n",
    "print(scipy.stats.mannwhitneyu(x,y, alternative = 'two-sided'))"
   ]
  },
  {
   "cell_type": "code",
   "execution_count": null,
   "metadata": {},
   "outputs": [],
   "source": []
  }
 ],
 "metadata": {
  "kernelspec": {
   "display_name": "Python [conda env:anaconda3]",
   "language": "python",
   "name": "conda-env-anaconda3-py"
  },
  "language_info": {
   "codemirror_mode": {
    "name": "ipython",
    "version": 3
   },
   "file_extension": ".py",
   "mimetype": "text/x-python",
   "name": "python",
   "nbconvert_exporter": "python",
   "pygments_lexer": "ipython3",
   "version": "3.6.5"
  }
 },
 "nbformat": 4,
 "nbformat_minor": 2
}
